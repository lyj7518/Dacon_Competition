{
  "cells": [
    {
      "cell_type": "markdown",
      "metadata": {
        "id": "c4708db5"
      },
      "source": [
        "# 확인하세요!\n",
        "\n",
        "### 제출 전에 모든 코드가 순차적으로 잘 작동하는지 확인하세요. \n",
        "- **커널을 다시 시작**한 다음(메뉴바에서 Kernel$\\rightarrow$Restart 선택) **모든 셀을 실행**해 보세요(메뉴바에서 Cell$\\rightarrow$Run All 선택).\n",
        "\n",
        "### 지정 셀의 지정 영역에서만 코드를 작성했는지 확인하세요.\n",
        "- `YOUR CODE HERE`이 적혀 있는 셀에 대한 코드만 채점에 반영됩니다.\n",
        "- `YOUR CODE HERE` ~ `YOUR CODE ENDS HERE` 사이에 본인의 코드를 작성하세요.\n",
        "- 지정 셀 이외에 본인이 코드 실행 결과를 확인하기 위한 용도로 셀을 추가해도 됩니다.\n",
        "    - **제출 시 지정 셀에서는 정답 이외에 결과 확인을 위한 코드 등은 제거하고 제출해 주세요!**\n",
        "    - **기존 셀을 삭제하지 마세요! 채점에 불이익이 있을 수 있습니다.**\n",
        "\n",
        "### 제출 방법\n",
        "- 시간 내에 문제를 풀고, 본인의 github repo에 push 하세요.\n",
        "    - **디렉토리 구조가 변하면 안 됩니다.** `codestates/ds-sc2xx`와 디렉토리 구조가 동일해야 합니다. 답안 파일의 이름을 변경하지 않았는지, 기존에 없던 폴더가 추가되지 않았는지 등을 확인하세요.\n",
        "    - **코드스테이츠 가입 시 연동한 github 계정을 사용해야 합니다.**\n",
        "    - **branch를 변경하여 작업하지 마세요.**\n",
        "        - `master` branch에의 제출 사항에 대해서만 평가합니다.\n",
        "        - 본인의 github repo `master` branch에 제출이 잘 되어 있는지 확인하세요."
      ],
      "id": "c4708db5"
    },
    {
      "cell_type": "markdown",
      "metadata": {
        "id": "220b9562"
      },
      "source": [
        "---"
      ],
      "id": "220b9562"
    },
    {
      "cell_type": "markdown",
      "metadata": {
        "id": "6f4f7cc5"
      },
      "source": [
        "# SC23x\n",
        " \n",
        "## Applied Predictive Modeling\n",
        "\n",
        " 이번 스프린트 챌린지에서는 시카고에 있는 식당들의 정보와 해당 식당들의 위생 검사 결과에 관한 데이터를 담은 데이터셋을 다루게 됩니다.\n",
        "\n",
        "데이터셋에 관한 설명은 이 [PDF](https://data.cityofchicago.org/api/assets/BAD5301B-681A-4202-9D25-51B2CAE672FF)를 참고해주시길 바랍니다."
      ],
      "id": "6f4f7cc5"
    },
    {
      "cell_type": "markdown",
      "metadata": {
        "id": "47d7d20d"
      },
      "source": [
        "#### 목표: 오늘 여러분은 Chicago시의 공중보건부에서 진행한 레스토랑들의 위생 검사 \"불합격\" 여부를 예측하는 모델을 만들어야 합니다.\n",
        "\n",
        "여러분의 모델이 예측할 target은 `Inspection Fail` 칼럼입니다.   \n",
        "칼럼 값은 아래와 같습니다:\n",
        "- 식당이 위생 검사에 불합격한 경우: **1**\n",
        "- 식당이 검사를 통과한 경우: **0**"
      ],
      "id": "47d7d20d"
    },
    {
      "cell_type": "code",
      "execution_count": 65,
      "metadata": {
        "id": "1mK-GICgQgPN",
        "colab": {
          "base_uri": "https://localhost:8080/"
        },
        "outputId": "c75e80d5-5e73-431f-f026-b69230dfbd44"
      },
      "outputs": [
        {
          "output_type": "stream",
          "name": "stdout",
          "text": [
            "Looking in indexes: https://pypi.org/simple, https://us-python.pkg.dev/colab-wheels/public/simple/\n",
            "Requirement already satisfied: category_encoders in /usr/local/lib/python3.7/dist-packages (2.5.1.post0)\n",
            "Requirement already satisfied: statsmodels>=0.9.0 in /usr/local/lib/python3.7/dist-packages (from category_encoders) (0.12.2)\n",
            "Requirement already satisfied: pandas>=1.0.5 in /usr/local/lib/python3.7/dist-packages (from category_encoders) (1.3.5)\n",
            "Requirement already satisfied: scipy>=1.0.0 in /usr/local/lib/python3.7/dist-packages (from category_encoders) (1.7.3)\n",
            "Requirement already satisfied: scikit-learn>=0.20.0 in /usr/local/lib/python3.7/dist-packages (from category_encoders) (1.0.2)\n",
            "Requirement already satisfied: patsy>=0.5.1 in /usr/local/lib/python3.7/dist-packages (from category_encoders) (0.5.3)\n",
            "Requirement already satisfied: numpy>=1.14.0 in /usr/local/lib/python3.7/dist-packages (from category_encoders) (1.21.6)\n",
            "Requirement already satisfied: python-dateutil>=2.7.3 in /usr/local/lib/python3.7/dist-packages (from pandas>=1.0.5->category_encoders) (2.8.2)\n",
            "Requirement already satisfied: pytz>=2017.3 in /usr/local/lib/python3.7/dist-packages (from pandas>=1.0.5->category_encoders) (2022.5)\n",
            "Requirement already satisfied: six in /usr/local/lib/python3.7/dist-packages (from patsy>=0.5.1->category_encoders) (1.15.0)\n",
            "Requirement already satisfied: joblib>=0.11 in /usr/local/lib/python3.7/dist-packages (from scikit-learn>=0.20.0->category_encoders) (1.2.0)\n",
            "Requirement already satisfied: threadpoolctl>=2.0.0 in /usr/local/lib/python3.7/dist-packages (from scikit-learn>=0.20.0->category_encoders) (3.1.0)\n",
            "Looking in indexes: https://pypi.org/simple, https://us-python.pkg.dev/colab-wheels/public/simple/\n",
            "Requirement already satisfied: eli5 in /usr/local/lib/python3.7/dist-packages (0.13.0)\n",
            "Requirement already satisfied: numpy>=1.9.0 in /usr/local/lib/python3.7/dist-packages (from eli5) (1.21.6)\n",
            "Requirement already satisfied: scikit-learn>=0.20 in /usr/local/lib/python3.7/dist-packages (from eli5) (1.0.2)\n",
            "Requirement already satisfied: six in /usr/local/lib/python3.7/dist-packages (from eli5) (1.15.0)\n",
            "Requirement already satisfied: jinja2>=3.0.0 in /usr/local/lib/python3.7/dist-packages (from eli5) (3.1.2)\n",
            "Requirement already satisfied: scipy in /usr/local/lib/python3.7/dist-packages (from eli5) (1.7.3)\n",
            "Requirement already satisfied: graphviz in /usr/local/lib/python3.7/dist-packages (from eli5) (0.10.1)\n",
            "Requirement already satisfied: tabulate>=0.7.7 in /usr/local/lib/python3.7/dist-packages (from eli5) (0.8.10)\n",
            "Requirement already satisfied: attrs>17.1.0 in /usr/local/lib/python3.7/dist-packages (from eli5) (22.1.0)\n",
            "Requirement already satisfied: MarkupSafe>=2.0 in /usr/local/lib/python3.7/dist-packages (from jinja2>=3.0.0->eli5) (2.0.1)\n",
            "Requirement already satisfied: threadpoolctl>=2.0.0 in /usr/local/lib/python3.7/dist-packages (from scikit-learn>=0.20->eli5) (3.1.0)\n",
            "Requirement already satisfied: joblib>=0.11 in /usr/local/lib/python3.7/dist-packages (from scikit-learn>=0.20->eli5) (1.2.0)\n",
            "Looking in indexes: https://pypi.org/simple, https://us-python.pkg.dev/colab-wheels/public/simple/\n",
            "Requirement already satisfied: shap in /usr/local/lib/python3.7/dist-packages (0.41.0)\n",
            "Requirement already satisfied: scipy in /usr/local/lib/python3.7/dist-packages (from shap) (1.7.3)\n",
            "Requirement already satisfied: numpy in /usr/local/lib/python3.7/dist-packages (from shap) (1.21.6)\n",
            "Requirement already satisfied: packaging>20.9 in /usr/local/lib/python3.7/dist-packages (from shap) (21.3)\n",
            "Requirement already satisfied: scikit-learn in /usr/local/lib/python3.7/dist-packages (from shap) (1.0.2)\n",
            "Requirement already satisfied: numba in /usr/local/lib/python3.7/dist-packages (from shap) (0.56.3)\n",
            "Requirement already satisfied: cloudpickle in /usr/local/lib/python3.7/dist-packages (from shap) (1.5.0)\n",
            "Requirement already satisfied: pandas in /usr/local/lib/python3.7/dist-packages (from shap) (1.3.5)\n",
            "Requirement already satisfied: tqdm>4.25.0 in /usr/local/lib/python3.7/dist-packages (from shap) (4.64.1)\n",
            "Requirement already satisfied: slicer==0.0.7 in /usr/local/lib/python3.7/dist-packages (from shap) (0.0.7)\n",
            "Requirement already satisfied: pyparsing!=3.0.5,>=2.0.2 in /usr/local/lib/python3.7/dist-packages (from packaging>20.9->shap) (3.0.9)\n",
            "Requirement already satisfied: llvmlite<0.40,>=0.39.0dev0 in /usr/local/lib/python3.7/dist-packages (from numba->shap) (0.39.1)\n",
            "Requirement already satisfied: importlib-metadata in /usr/local/lib/python3.7/dist-packages (from numba->shap) (4.13.0)\n",
            "Requirement already satisfied: setuptools in /usr/local/lib/python3.7/dist-packages (from numba->shap) (57.4.0)\n",
            "Requirement already satisfied: zipp>=0.5 in /usr/local/lib/python3.7/dist-packages (from importlib-metadata->numba->shap) (3.9.0)\n",
            "Requirement already satisfied: typing-extensions>=3.6.4 in /usr/local/lib/python3.7/dist-packages (from importlib-metadata->numba->shap) (4.1.1)\n",
            "Requirement already satisfied: python-dateutil>=2.7.3 in /usr/local/lib/python3.7/dist-packages (from pandas->shap) (2.8.2)\n",
            "Requirement already satisfied: pytz>=2017.3 in /usr/local/lib/python3.7/dist-packages (from pandas->shap) (2022.5)\n",
            "Requirement already satisfied: six>=1.5 in /usr/local/lib/python3.7/dist-packages (from python-dateutil>=2.7.3->pandas->shap) (1.15.0)\n",
            "Requirement already satisfied: joblib>=0.11 in /usr/local/lib/python3.7/dist-packages (from scikit-learn->shap) (1.2.0)\n",
            "Requirement already satisfied: threadpoolctl>=2.0.0 in /usr/local/lib/python3.7/dist-packages (from scikit-learn->shap) (3.1.0)\n",
            "Looking in indexes: https://pypi.org/simple, https://us-python.pkg.dev/colab-wheels/public/simple/\n",
            "Requirement already satisfied: pdpbox in /usr/local/lib/python3.7/dist-packages (0.2.1)\n",
            "Requirement already satisfied: pandas in /usr/local/lib/python3.7/dist-packages (from pdpbox) (1.3.5)\n",
            "Requirement already satisfied: psutil in /usr/local/lib/python3.7/dist-packages (from pdpbox) (5.4.8)\n",
            "Requirement already satisfied: scipy in /usr/local/lib/python3.7/dist-packages (from pdpbox) (1.7.3)\n",
            "Requirement already satisfied: matplotlib==3.1.1 in /usr/local/lib/python3.7/dist-packages (from pdpbox) (3.1.1)\n",
            "Requirement already satisfied: joblib in /usr/local/lib/python3.7/dist-packages (from pdpbox) (1.2.0)\n",
            "Requirement already satisfied: sklearn in /usr/local/lib/python3.7/dist-packages (from pdpbox) (0.0)\n",
            "Requirement already satisfied: numpy in /usr/local/lib/python3.7/dist-packages (from pdpbox) (1.21.6)\n",
            "Requirement already satisfied: cycler>=0.10 in /usr/local/lib/python3.7/dist-packages (from matplotlib==3.1.1->pdpbox) (0.11.0)\n",
            "Requirement already satisfied: python-dateutil>=2.1 in /usr/local/lib/python3.7/dist-packages (from matplotlib==3.1.1->pdpbox) (2.8.2)\n",
            "Requirement already satisfied: kiwisolver>=1.0.1 in /usr/local/lib/python3.7/dist-packages (from matplotlib==3.1.1->pdpbox) (1.4.4)\n",
            "Requirement already satisfied: pyparsing!=2.0.4,!=2.1.2,!=2.1.6,>=2.0.1 in /usr/local/lib/python3.7/dist-packages (from matplotlib==3.1.1->pdpbox) (3.0.9)\n",
            "Requirement already satisfied: typing-extensions in /usr/local/lib/python3.7/dist-packages (from kiwisolver>=1.0.1->matplotlib==3.1.1->pdpbox) (4.1.1)\n",
            "Requirement already satisfied: six>=1.5 in /usr/local/lib/python3.7/dist-packages (from python-dateutil>=2.1->matplotlib==3.1.1->pdpbox) (1.15.0)\n",
            "Requirement already satisfied: pytz>=2017.3 in /usr/local/lib/python3.7/dist-packages (from pandas->pdpbox) (2022.5)\n",
            "Requirement already satisfied: scikit-learn in /usr/local/lib/python3.7/dist-packages (from sklearn->pdpbox) (1.0.2)\n",
            "Requirement already satisfied: threadpoolctl>=2.0.0 in /usr/local/lib/python3.7/dist-packages (from scikit-learn->sklearn->pdpbox) (3.1.0)\n"
          ]
        }
      ],
      "source": [
        "!pip install category_encoders\n",
        "!pip install eli5\n",
        "!pip install shap\n",
        "!pip install pdpbox"
      ],
      "id": "1mK-GICgQgPN"
    },
    {
      "cell_type": "code",
      "execution_count": 66,
      "metadata": {
        "id": "SNB1pj3-Q2PH"
      },
      "outputs": [],
      "source": [
        "import pandas as pd\n",
        "import numpy as np\n",
        "import matplotlib.pyplot as plt\n",
        "import warnings\n",
        "from category_encoders import OneHotEncoder, TargetEncoder\n",
        "from sklearn.impute import SimpleImputer\n",
        "from sklearn.preprocessing import StandardScaler\n",
        "from sklearn.linear_model import LogisticRegression\n",
        "from sklearn.pipeline import make_pipeline\n",
        "warnings.filterwarnings('ignore')\n",
        "%matplotlib inline\n",
        "import eli5"
      ],
      "id": "SNB1pj3-Q2PH"
    },
    {
      "cell_type": "code",
      "execution_count": 67,
      "metadata": {
        "id": "cdad95b2",
        "colab": {
          "base_uri": "https://localhost:8080/",
          "height": 1000
        },
        "outputId": "c60183a1-7589-43ad-8bb3-5683859ac8fe"
      },
      "outputs": [
        {
          "output_type": "stream",
          "name": "stdout",
          "text": [
            "Looking in indexes: https://pypi.org/simple, https://us-python.pkg.dev/colab-wheels/public/simple/\n",
            "Requirement already satisfied: category_encoders==2.* in /usr/local/lib/python3.7/dist-packages (2.5.1.post0)\n",
            "Requirement already satisfied: statsmodels>=0.9.0 in /usr/local/lib/python3.7/dist-packages (from category_encoders==2.*) (0.12.2)\n",
            "Requirement already satisfied: numpy>=1.14.0 in /usr/local/lib/python3.7/dist-packages (from category_encoders==2.*) (1.21.6)\n",
            "Requirement already satisfied: patsy>=0.5.1 in /usr/local/lib/python3.7/dist-packages (from category_encoders==2.*) (0.5.3)\n",
            "Requirement already satisfied: scikit-learn>=0.20.0 in /usr/local/lib/python3.7/dist-packages (from category_encoders==2.*) (1.0.2)\n",
            "Requirement already satisfied: scipy>=1.0.0 in /usr/local/lib/python3.7/dist-packages (from category_encoders==2.*) (1.7.3)\n",
            "Requirement already satisfied: pandas>=1.0.5 in /usr/local/lib/python3.7/dist-packages (from category_encoders==2.*) (1.3.5)\n",
            "Requirement already satisfied: python-dateutil>=2.7.3 in /usr/local/lib/python3.7/dist-packages (from pandas>=1.0.5->category_encoders==2.*) (2.8.2)\n",
            "Requirement already satisfied: pytz>=2017.3 in /usr/local/lib/python3.7/dist-packages (from pandas>=1.0.5->category_encoders==2.*) (2022.5)\n",
            "Requirement already satisfied: six in /usr/local/lib/python3.7/dist-packages (from patsy>=0.5.1->category_encoders==2.*) (1.15.0)\n",
            "Requirement already satisfied: joblib>=0.11 in /usr/local/lib/python3.7/dist-packages (from scikit-learn>=0.20.0->category_encoders==2.*) (1.2.0)\n",
            "Requirement already satisfied: threadpoolctl>=2.0.0 in /usr/local/lib/python3.7/dist-packages (from scikit-learn>=0.20.0->category_encoders==2.*) (3.1.0)\n",
            "Looking in indexes: https://pypi.org/simple, https://us-python.pkg.dev/colab-wheels/public/simple/\n",
            "Requirement already satisfied: eli5 in /usr/local/lib/python3.7/dist-packages (0.13.0)\n",
            "Requirement already satisfied: tabulate>=0.7.7 in /usr/local/lib/python3.7/dist-packages (from eli5) (0.8.10)\n",
            "Requirement already satisfied: attrs>17.1.0 in /usr/local/lib/python3.7/dist-packages (from eli5) (22.1.0)\n",
            "Requirement already satisfied: scikit-learn>=0.20 in /usr/local/lib/python3.7/dist-packages (from eli5) (1.0.2)\n",
            "Requirement already satisfied: jinja2>=3.0.0 in /usr/local/lib/python3.7/dist-packages (from eli5) (3.1.2)\n",
            "Requirement already satisfied: scipy in /usr/local/lib/python3.7/dist-packages (from eli5) (1.7.3)\n",
            "Requirement already satisfied: graphviz in /usr/local/lib/python3.7/dist-packages (from eli5) (0.10.1)\n",
            "Requirement already satisfied: six in /usr/local/lib/python3.7/dist-packages (from eli5) (1.15.0)\n",
            "Requirement already satisfied: numpy>=1.9.0 in /usr/local/lib/python3.7/dist-packages (from eli5) (1.21.6)\n",
            "Requirement already satisfied: MarkupSafe>=2.0 in /usr/local/lib/python3.7/dist-packages (from jinja2>=3.0.0->eli5) (2.0.1)\n",
            "Requirement already satisfied: joblib>=0.11 in /usr/local/lib/python3.7/dist-packages (from scikit-learn>=0.20->eli5) (1.2.0)\n",
            "Requirement already satisfied: threadpoolctl>=2.0.0 in /usr/local/lib/python3.7/dist-packages (from scikit-learn>=0.20->eli5) (3.1.0)\n",
            "Looking in indexes: https://pypi.org/simple, https://us-python.pkg.dev/colab-wheels/public/simple/\n",
            "Requirement already satisfied: pandas-profiling==2.* in /usr/local/lib/python3.7/dist-packages (2.13.0)\n",
            "Requirement already satisfied: tqdm>=4.48.2 in /usr/local/lib/python3.7/dist-packages (from pandas-profiling==2.*) (4.64.1)\n",
            "Requirement already satisfied: joblib in /usr/local/lib/python3.7/dist-packages (from pandas-profiling==2.*) (1.2.0)\n",
            "Requirement already satisfied: phik>=0.11.1 in /usr/local/lib/python3.7/dist-packages (from pandas-profiling==2.*) (0.12.2)\n",
            "Requirement already satisfied: requests>=2.24.0 in /usr/local/lib/python3.7/dist-packages (from pandas-profiling==2.*) (2.28.1)\n",
            "Requirement already satisfied: seaborn>=0.10.1 in /usr/local/lib/python3.7/dist-packages (from pandas-profiling==2.*) (0.11.2)\n",
            "Requirement already satisfied: pandas!=1.0.0,!=1.0.1,!=1.0.2,!=1.1.0,>=0.25.3 in /usr/local/lib/python3.7/dist-packages (from pandas-profiling==2.*) (1.3.5)\n",
            "Requirement already satisfied: visions[type_image_path]==0.7.1 in /usr/local/lib/python3.7/dist-packages (from pandas-profiling==2.*) (0.7.1)\n",
            "Requirement already satisfied: confuse>=1.0.0 in /usr/local/lib/python3.7/dist-packages (from pandas-profiling==2.*) (2.0.0)\n",
            "Requirement already satisfied: jinja2>=2.11.1 in /usr/local/lib/python3.7/dist-packages (from pandas-profiling==2.*) (3.1.2)\n",
            "Requirement already satisfied: htmlmin>=0.1.12 in /usr/local/lib/python3.7/dist-packages (from pandas-profiling==2.*) (0.1.12)\n",
            "Requirement already satisfied: numpy>=1.16.0 in /usr/local/lib/python3.7/dist-packages (from pandas-profiling==2.*) (1.21.6)\n",
            "Requirement already satisfied: scipy>=1.4.1 in /usr/local/lib/python3.7/dist-packages (from pandas-profiling==2.*) (1.7.3)\n",
            "Requirement already satisfied: tangled-up-in-unicode>=0.0.6 in /usr/local/lib/python3.7/dist-packages (from pandas-profiling==2.*) (0.2.0)\n",
            "Collecting matplotlib>=3.2.0\n",
            "  Using cached matplotlib-3.5.3-cp37-cp37m-manylinux_2_5_x86_64.manylinux1_x86_64.whl (11.2 MB)\n",
            "Requirement already satisfied: attrs>=19.3.0 in /usr/local/lib/python3.7/dist-packages (from pandas-profiling==2.*) (22.1.0)\n",
            "Requirement already satisfied: missingno>=0.4.2 in /usr/local/lib/python3.7/dist-packages (from pandas-profiling==2.*) (0.5.1)\n",
            "Requirement already satisfied: networkx>=2.4 in /usr/local/lib/python3.7/dist-packages (from visions[type_image_path]==0.7.1->pandas-profiling==2.*) (2.6.3)\n",
            "Requirement already satisfied: multimethod==1.4 in /usr/local/lib/python3.7/dist-packages (from visions[type_image_path]==0.7.1->pandas-profiling==2.*) (1.4)\n",
            "Requirement already satisfied: bottleneck in /usr/local/lib/python3.7/dist-packages (from visions[type_image_path]==0.7.1->pandas-profiling==2.*) (1.3.5)\n",
            "Requirement already satisfied: Pillow in /usr/local/lib/python3.7/dist-packages (from visions[type_image_path]==0.7.1->pandas-profiling==2.*) (7.1.2)\n",
            "Requirement already satisfied: imagehash in /usr/local/lib/python3.7/dist-packages (from visions[type_image_path]==0.7.1->pandas-profiling==2.*) (4.3.1)\n",
            "Requirement already satisfied: pyyaml in /usr/local/lib/python3.7/dist-packages (from confuse>=1.0.0->pandas-profiling==2.*) (6.0)\n",
            "Requirement already satisfied: MarkupSafe>=2.0 in /usr/local/lib/python3.7/dist-packages (from jinja2>=2.11.1->pandas-profiling==2.*) (2.0.1)\n",
            "Requirement already satisfied: packaging>=20.0 in /usr/local/lib/python3.7/dist-packages (from matplotlib>=3.2.0->pandas-profiling==2.*) (21.3)\n",
            "Requirement already satisfied: kiwisolver>=1.0.1 in /usr/local/lib/python3.7/dist-packages (from matplotlib>=3.2.0->pandas-profiling==2.*) (1.4.4)\n",
            "Requirement already satisfied: pyparsing>=2.2.1 in /usr/local/lib/python3.7/dist-packages (from matplotlib>=3.2.0->pandas-profiling==2.*) (3.0.9)\n",
            "Requirement already satisfied: python-dateutil>=2.7 in /usr/local/lib/python3.7/dist-packages (from matplotlib>=3.2.0->pandas-profiling==2.*) (2.8.2)\n",
            "Requirement already satisfied: fonttools>=4.22.0 in /usr/local/lib/python3.7/dist-packages (from matplotlib>=3.2.0->pandas-profiling==2.*) (4.38.0)\n",
            "Requirement already satisfied: cycler>=0.10 in /usr/local/lib/python3.7/dist-packages (from matplotlib>=3.2.0->pandas-profiling==2.*) (0.11.0)\n",
            "Requirement already satisfied: typing-extensions in /usr/local/lib/python3.7/dist-packages (from kiwisolver>=1.0.1->matplotlib>=3.2.0->pandas-profiling==2.*) (4.1.1)\n",
            "Requirement already satisfied: pytz>=2017.3 in /usr/local/lib/python3.7/dist-packages (from pandas!=1.0.0,!=1.0.1,!=1.0.2,!=1.1.0,>=0.25.3->pandas-profiling==2.*) (2022.5)\n",
            "Requirement already satisfied: six>=1.5 in /usr/local/lib/python3.7/dist-packages (from python-dateutil>=2.7->matplotlib>=3.2.0->pandas-profiling==2.*) (1.15.0)\n",
            "Requirement already satisfied: urllib3<1.27,>=1.21.1 in /usr/local/lib/python3.7/dist-packages (from requests>=2.24.0->pandas-profiling==2.*) (1.24.3)\n",
            "Requirement already satisfied: idna<4,>=2.5 in /usr/local/lib/python3.7/dist-packages (from requests>=2.24.0->pandas-profiling==2.*) (2.10)\n",
            "Requirement already satisfied: charset-normalizer<3,>=2 in /usr/local/lib/python3.7/dist-packages (from requests>=2.24.0->pandas-profiling==2.*) (2.1.1)\n",
            "Requirement already satisfied: certifi>=2017.4.17 in /usr/local/lib/python3.7/dist-packages (from requests>=2.24.0->pandas-profiling==2.*) (2022.9.24)\n",
            "Requirement already satisfied: PyWavelets in /usr/local/lib/python3.7/dist-packages (from imagehash->visions[type_image_path]==0.7.1->pandas-profiling==2.*) (1.3.0)\n",
            "Installing collected packages: matplotlib\n",
            "  Attempting uninstall: matplotlib\n",
            "    Found existing installation: matplotlib 3.1.1\n",
            "    Uninstalling matplotlib-3.1.1:\n",
            "      Successfully uninstalled matplotlib-3.1.1\n",
            "\u001b[31mERROR: pip's dependency resolver does not currently take into account all the packages that are installed. This behaviour is the source of the following dependency conflicts.\n",
            "pdpbox 0.2.1 requires matplotlib==3.1.1, but you have matplotlib 3.5.3 which is incompatible.\u001b[0m\n",
            "Successfully installed matplotlib-3.5.3\n"
          ]
        },
        {
          "output_type": "display_data",
          "data": {
            "application/vnd.colab-display-data+json": {
              "pip_warning": {
                "packages": [
                  "matplotlib",
                  "mpl_toolkits"
                ]
              }
            }
          },
          "metadata": {}
        },
        {
          "output_type": "stream",
          "name": "stdout",
          "text": [
            "Looking in indexes: https://pypi.org/simple, https://us-python.pkg.dev/colab-wheels/public/simple/\n",
            "Requirement already satisfied: pdpbox in /usr/local/lib/python3.7/dist-packages (0.2.1)\n",
            "Requirement already satisfied: sklearn in /usr/local/lib/python3.7/dist-packages (from pdpbox) (0.0)\n",
            "Requirement already satisfied: numpy in /usr/local/lib/python3.7/dist-packages (from pdpbox) (1.21.6)\n",
            "Requirement already satisfied: psutil in /usr/local/lib/python3.7/dist-packages (from pdpbox) (5.4.8)\n",
            "Requirement already satisfied: pandas in /usr/local/lib/python3.7/dist-packages (from pdpbox) (1.3.5)\n",
            "Collecting matplotlib==3.1.1\n",
            "  Using cached matplotlib-3.1.1-cp37-cp37m-manylinux1_x86_64.whl (13.1 MB)\n",
            "Requirement already satisfied: scipy in /usr/local/lib/python3.7/dist-packages (from pdpbox) (1.7.3)\n",
            "Requirement already satisfied: joblib in /usr/local/lib/python3.7/dist-packages (from pdpbox) (1.2.0)\n",
            "Requirement already satisfied: cycler>=0.10 in /usr/local/lib/python3.7/dist-packages (from matplotlib==3.1.1->pdpbox) (0.11.0)\n",
            "Requirement already satisfied: pyparsing!=2.0.4,!=2.1.2,!=2.1.6,>=2.0.1 in /usr/local/lib/python3.7/dist-packages (from matplotlib==3.1.1->pdpbox) (3.0.9)\n",
            "Requirement already satisfied: kiwisolver>=1.0.1 in /usr/local/lib/python3.7/dist-packages (from matplotlib==3.1.1->pdpbox) (1.4.4)\n",
            "Requirement already satisfied: python-dateutil>=2.1 in /usr/local/lib/python3.7/dist-packages (from matplotlib==3.1.1->pdpbox) (2.8.2)\n",
            "Requirement already satisfied: typing-extensions in /usr/local/lib/python3.7/dist-packages (from kiwisolver>=1.0.1->matplotlib==3.1.1->pdpbox) (4.1.1)\n",
            "Requirement already satisfied: six>=1.5 in /usr/local/lib/python3.7/dist-packages (from python-dateutil>=2.1->matplotlib==3.1.1->pdpbox) (1.15.0)\n",
            "Requirement already satisfied: pytz>=2017.3 in /usr/local/lib/python3.7/dist-packages (from pandas->pdpbox) (2022.5)\n",
            "Requirement already satisfied: scikit-learn in /usr/local/lib/python3.7/dist-packages (from sklearn->pdpbox) (1.0.2)\n",
            "Requirement already satisfied: threadpoolctl>=2.0.0 in /usr/local/lib/python3.7/dist-packages (from scikit-learn->sklearn->pdpbox) (3.1.0)\n",
            "Installing collected packages: matplotlib\n",
            "  Attempting uninstall: matplotlib\n",
            "    Found existing installation: matplotlib 3.5.3\n",
            "    Uninstalling matplotlib-3.5.3:\n",
            "      Successfully uninstalled matplotlib-3.5.3\n",
            "\u001b[31mERROR: pip's dependency resolver does not currently take into account all the packages that are installed. This behaviour is the source of the following dependency conflicts.\n",
            "pandas-profiling 2.13.0 requires matplotlib>=3.2.0, but you have matplotlib 3.1.1 which is incompatible.\u001b[0m\n",
            "Successfully installed matplotlib-3.1.1\n"
          ]
        },
        {
          "output_type": "display_data",
          "data": {
            "application/vnd.colab-display-data+json": {
              "pip_warning": {
                "packages": [
                  "matplotlib",
                  "mpl_toolkits"
                ]
              }
            }
          },
          "metadata": {}
        },
        {
          "output_type": "stream",
          "name": "stdout",
          "text": [
            "Looking in indexes: https://pypi.org/simple, https://us-python.pkg.dev/colab-wheels/public/simple/\n",
            "Requirement already satisfied: shap in /usr/local/lib/python3.7/dist-packages (0.41.0)\n",
            "Requirement already satisfied: scipy in /usr/local/lib/python3.7/dist-packages (from shap) (1.7.3)\n",
            "Requirement already satisfied: packaging>20.9 in /usr/local/lib/python3.7/dist-packages (from shap) (21.3)\n",
            "Requirement already satisfied: scikit-learn in /usr/local/lib/python3.7/dist-packages (from shap) (1.0.2)\n",
            "Requirement already satisfied: slicer==0.0.7 in /usr/local/lib/python3.7/dist-packages (from shap) (0.0.7)\n",
            "Requirement already satisfied: pandas in /usr/local/lib/python3.7/dist-packages (from shap) (1.3.5)\n",
            "Requirement already satisfied: tqdm>4.25.0 in /usr/local/lib/python3.7/dist-packages (from shap) (4.64.1)\n",
            "Requirement already satisfied: numba in /usr/local/lib/python3.7/dist-packages (from shap) (0.56.3)\n",
            "Requirement already satisfied: cloudpickle in /usr/local/lib/python3.7/dist-packages (from shap) (1.5.0)\n",
            "Requirement already satisfied: numpy in /usr/local/lib/python3.7/dist-packages (from shap) (1.21.6)\n",
            "Requirement already satisfied: pyparsing!=3.0.5,>=2.0.2 in /usr/local/lib/python3.7/dist-packages (from packaging>20.9->shap) (3.0.9)\n",
            "Requirement already satisfied: llvmlite<0.40,>=0.39.0dev0 in /usr/local/lib/python3.7/dist-packages (from numba->shap) (0.39.1)\n",
            "Requirement already satisfied: setuptools in /usr/local/lib/python3.7/dist-packages (from numba->shap) (57.4.0)\n",
            "Requirement already satisfied: importlib-metadata in /usr/local/lib/python3.7/dist-packages (from numba->shap) (4.13.0)\n",
            "Requirement already satisfied: typing-extensions>=3.6.4 in /usr/local/lib/python3.7/dist-packages (from importlib-metadata->numba->shap) (4.1.1)\n",
            "Requirement already satisfied: zipp>=0.5 in /usr/local/lib/python3.7/dist-packages (from importlib-metadata->numba->shap) (3.9.0)\n",
            "Requirement already satisfied: python-dateutil>=2.7.3 in /usr/local/lib/python3.7/dist-packages (from pandas->shap) (2.8.2)\n",
            "Requirement already satisfied: pytz>=2017.3 in /usr/local/lib/python3.7/dist-packages (from pandas->shap) (2022.5)\n",
            "Requirement already satisfied: six>=1.5 in /usr/local/lib/python3.7/dist-packages (from python-dateutil>=2.7.3->pandas->shap) (1.15.0)\n",
            "Requirement already satisfied: joblib>=0.11 in /usr/local/lib/python3.7/dist-packages (from scikit-learn->shap) (1.2.0)\n",
            "Requirement already satisfied: threadpoolctl>=2.0.0 in /usr/local/lib/python3.7/dist-packages (from scikit-learn->shap) (3.1.0)\n"
          ]
        }
      ],
      "source": [
        "# Google Colab을 사용하는 경우 해당 셀을 실행하세요\n",
        "import sys\n",
        "import xgboost\n",
        "import warnings\n",
        "\n",
        "\n",
        "if \"google.colab\" in sys.modules:\n",
        "    # Install packages in Colab\n",
        "    !pip install category_encoders==2.*\n",
        "    !pip install eli5\n",
        "    !pip install pandas-profiling==2.*\n",
        "    !pip install pdpbox\n",
        "    !pip install shap\n",
        "\n",
        "warnings.filterwarnings(\"ignore\")\n",
        "#xgboost.config.set_config(verbosity=0)"
      ],
      "id": "cdad95b2"
    },
    {
      "cell_type": "code",
      "execution_count": 68,
      "metadata": {
        "id": "3a53a31f"
      },
      "outputs": [],
      "source": [
        "# 데이터셋을 불러오기 위해 판다스 라이브러리를 불러옵니다\n",
        "import pandas as pd\n",
        "\n",
        "train_url = \"https://ds-lecture-data.s3.ap-northeast-2.amazonaws.com/food_inspection_sc23x/food_ins_train.csv\"\n",
        "test_url = \"https://ds-lecture-data.s3.ap-northeast-2.amazonaws.com/food_inspection_sc23x/food_ins_test.csv\"\n",
        "\n",
        "# train, test 데이터셋을 불러옵니다\n",
        "train = pd.read_csv(train_url)\n",
        "test = pd.read_csv(test_url)\n",
        "\n",
        "# 데이터셋 확인\n",
        "assert train.shape == (60000, 17)\n",
        "assert test.shape == (20000, 17)"
      ],
      "id": "3a53a31f"
    },
    {
      "cell_type": "code",
      "execution_count": 69,
      "metadata": {
        "colab": {
          "base_uri": "https://localhost:8080/",
          "height": 583
        },
        "id": "f34ba7af",
        "outputId": "6b922c1e-300c-433d-a1cf-5d94d85e7ab3"
      },
      "outputs": [
        {
          "output_type": "execute_result",
          "data": {
            "text/plain": [
              "   Inspection ID              DBA Name           AKA Name  License #  \\\n",
              "0        2050629  MY SWEET STATION INC   MY SWEET STATION  2327223.0   \n",
              "1        2078428              OUTTAKES          RED MANGO  2125004.0   \n",
              "2        1591748          JAFFA BAGELS       JAFFA BAGELS  2278918.0   \n",
              "3        1230035      FRANKS 'N' DAWGS   FRANKS 'N' DAWGS  2094329.0   \n",
              "4        1228186           SOUTH COAST  SOUTH COAST SUSHI  1817424.0   \n",
              "\n",
              "  Facility Type             Risk               Address     City State  \\\n",
              "0    Restaurant    Risk 1 (High)   2511 N LINCOLN AVE   CHICAGO    IL   \n",
              "1    Restaurant  Risk 2 (Medium)  10 S DEARBORN ST FL   CHICAGO    IL   \n",
              "2    Restaurant    Risk 1 (High)   225 N MICHIGAN AVE   CHICAGO    IL   \n",
              "3    Restaurant    Risk 1 (High)  1863 N CLYBOURN AVE   CHICAGO    IL   \n",
              "4    Restaurant    Risk 1 (High)  1700 S MICHIGAN AVE   CHICAGO    IL   \n",
              "\n",
              "       Zip Inspection Date Inspection Type  \\\n",
              "0  60614.0      2017-05-18         Canvass   \n",
              "1  60603.0      2017-08-14         Canvass   \n",
              "2  60601.0      2015-12-15       Complaint   \n",
              "3  60614.0      2012-07-10         Canvass   \n",
              "4  60616.0      2013-09-20         Canvass   \n",
              "\n",
              "                                          Violations   Latitude  Longitude  \\\n",
              "0                                                NaN  41.927577 -87.651528   \n",
              "1  34. FLOORS: CONSTRUCTED PER CODE, CLEANED, GOO...  41.881807 -87.629543   \n",
              "2  30. FOOD IN ORIGINAL CONTAINER, PROPERLY LABEL...  41.886377 -87.624382   \n",
              "3  33. FOOD AND NON-FOOD CONTACT EQUIPMENT UTENSI...  41.914990 -87.654994   \n",
              "4                                                NaN  41.858996 -87.624106   \n",
              "\n",
              "                                  Location  Inspection Fail  \n",
              "0  (-87.65152817242594, 41.92757677830966)                0  \n",
              "1  (-87.62954311539407, 41.88180696006542)                0  \n",
              "2  (-87.62438167043969, 41.88637740620821)                0  \n",
              "3  (-87.65499361162448, 41.91498953039437)                0  \n",
              "4  (-87.62410566978502, 41.85899630014676)                0  "
            ],
            "text/html": [
              "\n",
              "  <div id=\"df-6b224336-803c-4787-9cd9-cd1b0b4a5b56\">\n",
              "    <div class=\"colab-df-container\">\n",
              "      <div>\n",
              "<style scoped>\n",
              "    .dataframe tbody tr th:only-of-type {\n",
              "        vertical-align: middle;\n",
              "    }\n",
              "\n",
              "    .dataframe tbody tr th {\n",
              "        vertical-align: top;\n",
              "    }\n",
              "\n",
              "    .dataframe thead th {\n",
              "        text-align: right;\n",
              "    }\n",
              "</style>\n",
              "<table border=\"1\" class=\"dataframe\">\n",
              "  <thead>\n",
              "    <tr style=\"text-align: right;\">\n",
              "      <th></th>\n",
              "      <th>Inspection ID</th>\n",
              "      <th>DBA Name</th>\n",
              "      <th>AKA Name</th>\n",
              "      <th>License #</th>\n",
              "      <th>Facility Type</th>\n",
              "      <th>Risk</th>\n",
              "      <th>Address</th>\n",
              "      <th>City</th>\n",
              "      <th>State</th>\n",
              "      <th>Zip</th>\n",
              "      <th>Inspection Date</th>\n",
              "      <th>Inspection Type</th>\n",
              "      <th>Violations</th>\n",
              "      <th>Latitude</th>\n",
              "      <th>Longitude</th>\n",
              "      <th>Location</th>\n",
              "      <th>Inspection Fail</th>\n",
              "    </tr>\n",
              "  </thead>\n",
              "  <tbody>\n",
              "    <tr>\n",
              "      <th>0</th>\n",
              "      <td>2050629</td>\n",
              "      <td>MY SWEET STATION INC</td>\n",
              "      <td>MY SWEET STATION</td>\n",
              "      <td>2327223.0</td>\n",
              "      <td>Restaurant</td>\n",
              "      <td>Risk 1 (High)</td>\n",
              "      <td>2511 N LINCOLN AVE</td>\n",
              "      <td>CHICAGO</td>\n",
              "      <td>IL</td>\n",
              "      <td>60614.0</td>\n",
              "      <td>2017-05-18</td>\n",
              "      <td>Canvass</td>\n",
              "      <td>NaN</td>\n",
              "      <td>41.927577</td>\n",
              "      <td>-87.651528</td>\n",
              "      <td>(-87.65152817242594, 41.92757677830966)</td>\n",
              "      <td>0</td>\n",
              "    </tr>\n",
              "    <tr>\n",
              "      <th>1</th>\n",
              "      <td>2078428</td>\n",
              "      <td>OUTTAKES</td>\n",
              "      <td>RED MANGO</td>\n",
              "      <td>2125004.0</td>\n",
              "      <td>Restaurant</td>\n",
              "      <td>Risk 2 (Medium)</td>\n",
              "      <td>10 S DEARBORN ST FL</td>\n",
              "      <td>CHICAGO</td>\n",
              "      <td>IL</td>\n",
              "      <td>60603.0</td>\n",
              "      <td>2017-08-14</td>\n",
              "      <td>Canvass</td>\n",
              "      <td>34. FLOORS: CONSTRUCTED PER CODE, CLEANED, GOO...</td>\n",
              "      <td>41.881807</td>\n",
              "      <td>-87.629543</td>\n",
              "      <td>(-87.62954311539407, 41.88180696006542)</td>\n",
              "      <td>0</td>\n",
              "    </tr>\n",
              "    <tr>\n",
              "      <th>2</th>\n",
              "      <td>1591748</td>\n",
              "      <td>JAFFA BAGELS</td>\n",
              "      <td>JAFFA BAGELS</td>\n",
              "      <td>2278918.0</td>\n",
              "      <td>Restaurant</td>\n",
              "      <td>Risk 1 (High)</td>\n",
              "      <td>225 N MICHIGAN AVE</td>\n",
              "      <td>CHICAGO</td>\n",
              "      <td>IL</td>\n",
              "      <td>60601.0</td>\n",
              "      <td>2015-12-15</td>\n",
              "      <td>Complaint</td>\n",
              "      <td>30. FOOD IN ORIGINAL CONTAINER, PROPERLY LABEL...</td>\n",
              "      <td>41.886377</td>\n",
              "      <td>-87.624382</td>\n",
              "      <td>(-87.62438167043969, 41.88637740620821)</td>\n",
              "      <td>0</td>\n",
              "    </tr>\n",
              "    <tr>\n",
              "      <th>3</th>\n",
              "      <td>1230035</td>\n",
              "      <td>FRANKS 'N' DAWGS</td>\n",
              "      <td>FRANKS 'N' DAWGS</td>\n",
              "      <td>2094329.0</td>\n",
              "      <td>Restaurant</td>\n",
              "      <td>Risk 1 (High)</td>\n",
              "      <td>1863 N CLYBOURN AVE</td>\n",
              "      <td>CHICAGO</td>\n",
              "      <td>IL</td>\n",
              "      <td>60614.0</td>\n",
              "      <td>2012-07-10</td>\n",
              "      <td>Canvass</td>\n",
              "      <td>33. FOOD AND NON-FOOD CONTACT EQUIPMENT UTENSI...</td>\n",
              "      <td>41.914990</td>\n",
              "      <td>-87.654994</td>\n",
              "      <td>(-87.65499361162448, 41.91498953039437)</td>\n",
              "      <td>0</td>\n",
              "    </tr>\n",
              "    <tr>\n",
              "      <th>4</th>\n",
              "      <td>1228186</td>\n",
              "      <td>SOUTH COAST</td>\n",
              "      <td>SOUTH COAST SUSHI</td>\n",
              "      <td>1817424.0</td>\n",
              "      <td>Restaurant</td>\n",
              "      <td>Risk 1 (High)</td>\n",
              "      <td>1700 S MICHIGAN AVE</td>\n",
              "      <td>CHICAGO</td>\n",
              "      <td>IL</td>\n",
              "      <td>60616.0</td>\n",
              "      <td>2013-09-20</td>\n",
              "      <td>Canvass</td>\n",
              "      <td>NaN</td>\n",
              "      <td>41.858996</td>\n",
              "      <td>-87.624106</td>\n",
              "      <td>(-87.62410566978502, 41.85899630014676)</td>\n",
              "      <td>0</td>\n",
              "    </tr>\n",
              "  </tbody>\n",
              "</table>\n",
              "</div>\n",
              "      <button class=\"colab-df-convert\" onclick=\"convertToInteractive('df-6b224336-803c-4787-9cd9-cd1b0b4a5b56')\"\n",
              "              title=\"Convert this dataframe to an interactive table.\"\n",
              "              style=\"display:none;\">\n",
              "        \n",
              "  <svg xmlns=\"http://www.w3.org/2000/svg\" height=\"24px\"viewBox=\"0 0 24 24\"\n",
              "       width=\"24px\">\n",
              "    <path d=\"M0 0h24v24H0V0z\" fill=\"none\"/>\n",
              "    <path d=\"M18.56 5.44l.94 2.06.94-2.06 2.06-.94-2.06-.94-.94-2.06-.94 2.06-2.06.94zm-11 1L8.5 8.5l.94-2.06 2.06-.94-2.06-.94L8.5 2.5l-.94 2.06-2.06.94zm10 10l.94 2.06.94-2.06 2.06-.94-2.06-.94-.94-2.06-.94 2.06-2.06.94z\"/><path d=\"M17.41 7.96l-1.37-1.37c-.4-.4-.92-.59-1.43-.59-.52 0-1.04.2-1.43.59L10.3 9.45l-7.72 7.72c-.78.78-.78 2.05 0 2.83L4 21.41c.39.39.9.59 1.41.59.51 0 1.02-.2 1.41-.59l7.78-7.78 2.81-2.81c.8-.78.8-2.07 0-2.86zM5.41 20L4 18.59l7.72-7.72 1.47 1.35L5.41 20z\"/>\n",
              "  </svg>\n",
              "      </button>\n",
              "      \n",
              "  <style>\n",
              "    .colab-df-container {\n",
              "      display:flex;\n",
              "      flex-wrap:wrap;\n",
              "      gap: 12px;\n",
              "    }\n",
              "\n",
              "    .colab-df-convert {\n",
              "      background-color: #E8F0FE;\n",
              "      border: none;\n",
              "      border-radius: 50%;\n",
              "      cursor: pointer;\n",
              "      display: none;\n",
              "      fill: #1967D2;\n",
              "      height: 32px;\n",
              "      padding: 0 0 0 0;\n",
              "      width: 32px;\n",
              "    }\n",
              "\n",
              "    .colab-df-convert:hover {\n",
              "      background-color: #E2EBFA;\n",
              "      box-shadow: 0px 1px 2px rgba(60, 64, 67, 0.3), 0px 1px 3px 1px rgba(60, 64, 67, 0.15);\n",
              "      fill: #174EA6;\n",
              "    }\n",
              "\n",
              "    [theme=dark] .colab-df-convert {\n",
              "      background-color: #3B4455;\n",
              "      fill: #D2E3FC;\n",
              "    }\n",
              "\n",
              "    [theme=dark] .colab-df-convert:hover {\n",
              "      background-color: #434B5C;\n",
              "      box-shadow: 0px 1px 3px 1px rgba(0, 0, 0, 0.15);\n",
              "      filter: drop-shadow(0px 1px 2px rgba(0, 0, 0, 0.3));\n",
              "      fill: #FFFFFF;\n",
              "    }\n",
              "  </style>\n",
              "\n",
              "      <script>\n",
              "        const buttonEl =\n",
              "          document.querySelector('#df-6b224336-803c-4787-9cd9-cd1b0b4a5b56 button.colab-df-convert');\n",
              "        buttonEl.style.display =\n",
              "          google.colab.kernel.accessAllowed ? 'block' : 'none';\n",
              "\n",
              "        async function convertToInteractive(key) {\n",
              "          const element = document.querySelector('#df-6b224336-803c-4787-9cd9-cd1b0b4a5b56');\n",
              "          const dataTable =\n",
              "            await google.colab.kernel.invokeFunction('convertToInteractive',\n",
              "                                                     [key], {});\n",
              "          if (!dataTable) return;\n",
              "\n",
              "          const docLinkHtml = 'Like what you see? Visit the ' +\n",
              "            '<a target=\"_blank\" href=https://colab.research.google.com/notebooks/data_table.ipynb>data table notebook</a>'\n",
              "            + ' to learn more about interactive tables.';\n",
              "          element.innerHTML = '';\n",
              "          dataTable['output_type'] = 'display_data';\n",
              "          await google.colab.output.renderOutput(dataTable, element);\n",
              "          const docLink = document.createElement('div');\n",
              "          docLink.innerHTML = docLinkHtml;\n",
              "          element.appendChild(docLink);\n",
              "        }\n",
              "      </script>\n",
              "    </div>\n",
              "  </div>\n",
              "  "
            ]
          },
          "metadata": {},
          "execution_count": 69
        }
      ],
      "source": [
        "train.head()"
      ],
      "id": "f34ba7af"
    },
    {
      "cell_type": "markdown",
      "metadata": {
        "id": "6b9c8083"
      },
      "source": [
        "# Part 1 - Data Preprocessing"
      ],
      "id": "6b9c8083"
    },
    {
      "cell_type": "code",
      "execution_count": 70,
      "metadata": {
        "colab": {
          "base_uri": "https://localhost:8080/"
        },
        "id": "a28fd02f",
        "outputId": "5632469e-57e3-4d62-9ac4-a1be54067c44"
      },
      "outputs": [
        {
          "output_type": "execute_result",
          "data": {
            "text/plain": [
              "0        0\n",
              "1        0\n",
              "2        0\n",
              "3        0\n",
              "4        0\n",
              "        ..\n",
              "19995    0\n",
              "19996    0\n",
              "19997    0\n",
              "19998    0\n",
              "19999    0\n",
              "Name: Inspection Fail, Length: 20000, dtype: int64"
            ]
          },
          "metadata": {},
          "execution_count": 70
        }
      ],
      "source": [
        "test[\"Inspection Fail\"]"
      ],
      "id": "a28fd02f"
    },
    {
      "cell_type": "markdown",
      "metadata": {
        "id": "a94d9ce7"
      },
      "source": [
        "## 컬럼 설명\n",
        "\n",
        "- **DBA**: 설립 시 서류에 등록한 이름\n",
        "\n",
        "- **AKA**: 대중들에게 알려져 있는 상표 이름\n",
        "\n",
        "- **License number**: 사업자 고유번호 (사업자등록번호)\n",
        "\n",
        "- **Type of facility**: 매장 업종 \n",
        "\n",
        "    bakery, banquet hall, candy store, caterer, coffee shop, day care center (for ages less than 2), day care center (for ages 2 – 6), day care center (combo, for ages less than 2 and 2-6 combined), gas station, Golden Diner, grocery store, hospital, long term care center(nursing home), liquor store, mobile food dispenser, restaurant, paleteria, school, shelter, tavern, social club, wholesaler, or Wrigley Field Rooftop.\n",
        "    \n",
        "    \n",
        "- **Risk**: 위험 시설 분류 카테고리 : 국민 건강에 악영향을 미칠 위험이 얼마나 높은 시설인가? (1이 가장 높고, 3이 가장 낮은 카테고리임. 위험 1 시설이 검사 빈도가 높은 편이고, 위험 3 시설이 검사 빈도가 낮은 편)\n",
        "\n",
        "- **Address, City, State, Zip**: 해당 시설이 위치한 주소 (Full Address)\n",
        "\n",
        "- **Inspection date**: 검사 날짜. (어떤 사업장은 동일한 사업장명에 각기 다른 검사 날짜를 가지고 있을 수도 있음)\n",
        "\n",
        "- **Inspection type**: 검사 유형. (각 이유에 대해 Re-inspection이 붙으면 재검사한 것)\n",
        "    - Canvass : 시설의 위험도와 관련된 가장 이란적인 유형의 검사. \n",
        "    - Consultation : 개업 전 소유자의 요청으로 검사를 수행.\n",
        "    - Complaint : 민원 사항 발생 시 검사를 수행할 때.\n",
        "    - License : 사업장의 영업허가서 발금 요건으로 검사를 할 때.\n",
        "    - Suspect Food Poisoning : 사업장에서 식사 (민원 처리 된 특정 유형의 검사)로 인해 병에 걸렸다고 주장하는 1인 이상에게 검사를 할 때.\n",
        "    - Task-force Inspection : 술집 또는 주점의 검사가 수행된 경우\n",
        "    \n",
        "- **Inspection Fail**: 검사 결과(불합격 여부)\n",
        "    - 실패를 받는다고 해서 반드시 사업장 면허가 정지되는 것은 아님.\n",
        "    \n",
        "- **Violations**: 위반사항. 위반사항을 지칭하는 고유번호와 위반한 사항 및 시정 요건에 대한 설명이 주어짐."
      ],
      "id": "a94d9ce7"
    },
    {
      "cell_type": "markdown",
      "metadata": {
        "id": "317a659c"
      },
      "source": [
        "## 1.1 데이터셋을 파악하기 위한 EDA를 진행하세요.\n",
        "- 아래 기본적인 EDA 과정을 위해 필요한 몇몇 함수들을 완성하세요.\n",
        "- 함수의 기능 및 입출력 형태는 함수 내의 주석을 따르세요.\n",
        "- **아래 EDA 과정만으로는 데이터에 대한 통찰을 얻기에 부족합니다. 추가로 본인만의 EDA 과정을 꼭 수행해 보세요.**"
      ],
      "id": "317a659c"
    },
    {
      "cell_type": "code",
      "execution_count": 71,
      "metadata": {
        "id": "9fd4bab4"
      },
      "outputs": [],
      "source": [
        "def analysis_on_features(df):\n",
        "    \"\"\"\n",
        "    - eda_results라고 하는 새로운 데이터프레임에 아래의 정보들을 담아 반환하세요.\n",
        "        - null_count: 입력 Pandas DataFrame의 column별 결측치의 수\n",
        "        - num_unique_values: 입력 Pandas DataFrame의 unique한 값의 수\n",
        "        - eda_results는 df의 column명을 index로 사용하는 데이터프레임입니다.\n",
        "\n",
        "    - 데이터프레임에 중복되는 row가 있지는 않나요?\n",
        "        - duplicated_rows에 중복되는 row 수를 담아 반환하세요.\n",
        "\n",
        "    \"\"\"\n",
        "    eda_results = pd.DataFrame()\n",
        "    eda_results[\"null_count\"] = None\n",
        "    eda_results[\"num_unique_values\"] = None\n",
        "    duplicated_rows = -1\n",
        "\n",
        "    # YOUR CODE HERE\n",
        "    eda_results[\"null_count\"] = df.isnull().sum()\n",
        "    eda_results[\"num_unique_values\"] = df.nunique()\n",
        "    duplicated_rows = df.duplicated().sum()\n",
        "    # YOUR CODE ENDS HERE\n",
        "\n",
        "    return eda_results, duplicated_rows"
      ],
      "id": "9fd4bab4"
    },
    {
      "cell_type": "code",
      "execution_count": 72,
      "metadata": {
        "id": "d91dddb4"
      },
      "outputs": [],
      "source": [
        "train_results, train_duplicated_rows = analysis_on_features(train)\n",
        "test_results, test_duplicated_rows = analysis_on_features(test)"
      ],
      "id": "d91dddb4"
    },
    {
      "cell_type": "code",
      "execution_count": 73,
      "metadata": {
        "colab": {
          "base_uri": "https://localhost:8080/"
        },
        "id": "6d48003a",
        "outputId": "50723809-8e5c-4bf5-96c6-6c3874aed818"
      },
      "outputs": [
        {
          "output_type": "stream",
          "name": "stdout",
          "text": [
            "Train df: duplicated? = 0\n",
            "                  null_count  num_unique_values\n",
            "Inspection ID             0              60000\n",
            "DBA Name                  0              20175\n",
            "AKA Name                717              19209\n",
            "License #                 4              25123\n",
            "Facility Type          1427                366\n",
            "Risk                     24                  4\n",
            "Address                   0              15244\n",
            "City                     45                 39\n",
            "State                    15                  3\n",
            "Zip                      13                 86\n",
            "Inspection Date           0               2667\n",
            "Inspection Type           0                 55\n",
            "Violations            15870              44035\n",
            "Latitude                178              14533\n",
            "Longitude               178              14533\n",
            "Location                178              14533\n",
            "Inspection Fail           0                  2 \n",
            "\n",
            "\n",
            "Test df: duplicated? = 0\n",
            "                  null_count  num_unique_values\n",
            "Inspection ID             0              20000\n",
            "DBA Name                  0              11690\n",
            "AKA Name                235              11222\n",
            "License #                 0              13637\n",
            "Facility Type           452                215\n",
            "Risk                      2                  4\n",
            "Address                   0              10357\n",
            "City                     11                 21\n",
            "State                     3                  1\n",
            "Zip                       4                 73\n",
            "Inspection Date           0               2609\n",
            "Inspection Type           0                 33\n",
            "Violations             5336              14654\n",
            "Latitude                 60              10074\n",
            "Longitude                60              10074\n",
            "Location                 60              10074\n",
            "Inspection Fail           0                  2\n"
          ]
        }
      ],
      "source": [
        "print(f\"Train df: duplicated? = {train_duplicated_rows}\\n\", train_results, \"\\n\\n\")\n",
        "print(f\"Test df: duplicated? = {test_duplicated_rows}\\n\", test_results)"
      ],
      "id": "6d48003a"
    },
    {
      "cell_type": "code",
      "execution_count": 74,
      "metadata": {
        "id": "c49c2c62"
      },
      "outputs": [],
      "source": [
        "import matplotlib.pyplot as plt\n",
        "\n",
        "\n",
        "def analysis_on_target(df):\n",
        "    \"\"\"\n",
        "    n_zero_label, n_one_label에\n",
        "    각각 label이 0인 데이터의 수, label이 1인 데이터의 수를 담아 반환하세요.\n",
        "    \"\"\"\n",
        "    n_zero_label, n_one_label = -1, -1\n",
        "\n",
        "    # YOUR CODE HERE\n",
        "    n_zero_label = sum(df['Inspection Fail'] == 0)\n",
        "    n_one_label = sum(df['Inspection Fail'] == 1)\n",
        "    # YOUR CODE ENDS HERE\n",
        "\n",
        "    plt.pie(\n",
        "        (n_zero_label, n_one_label),\n",
        "        labels=(0, 1),\n",
        "        autopct=\"%.2f%%\",\n",
        "        shadow=True,\n",
        "        startangle=90,\n",
        "    )\n",
        "    plt.title(\"Target: Inspection Fail\", size=15)\n",
        "    plt.show()\n",
        "\n",
        "    return n_zero_label, n_one_label"
      ],
      "id": "c49c2c62"
    },
    {
      "cell_type": "code",
      "execution_count": 75,
      "metadata": {
        "colab": {
          "base_uri": "https://localhost:8080/",
          "height": 515
        },
        "id": "10749633",
        "outputId": "b492f410-ff23-4bb0-d1fe-22efd3db193e"
      },
      "outputs": [
        {
          "output_type": "display_data",
          "data": {
            "text/plain": [
              "<Figure size 432x288 with 1 Axes>"
            ],
            "image/png": "[encoded data removed]"
          },
          "metadata": {}
        },
        {
          "output_type": "display_data",
          "data": {
            "text/plain": [
              "<Figure size 432x288 with 1 Axes>"
            ],
            "image/png": "[encoded data removed]"
          },
          "metadata": {}
        }
      ],
      "source": [
        "train_label_count = analysis_on_target(train)\n",
        "test_label_count = analysis_on_target(test)"
      ],
      "id": "10749633"
    },
    {
      "cell_type": "code",
      "execution_count": 76,
      "metadata": {
        "colab": {
          "base_uri": "https://localhost:8080/"
        },
        "id": "89890e8d",
        "outputId": "dc38c6c7-e812-43aa-cc04-4b1569a2d222"
      },
      "outputs": [
        {
          "output_type": "stream",
          "name": "stdout",
          "text": [
            "\n",
            "이 셀에서 추가로 데이터를 자유롭게 분석해 보세요.\n",
            "- 이 셀에서의 작업은 채점하지 않습니다.\n",
            "- 채점 시 이 셀에서 작업한 내용은 전부 무시됩니다.\n",
            "- 제출 전에 이 셀의 내용을 모두 주석 처리한 후 모든 코드가 순차적으로 오류 없이 실행되는지 꼭 확인하세요.\n",
            "\n",
            "<class 'pandas.core.frame.DataFrame'>\n",
            "RangeIndex: 60000 entries, 0 to 59999\n",
            "Data columns (total 17 columns):\n",
            " #   Column           Non-Null Count  Dtype  \n",
            "---  ------           --------------  -----  \n",
            " 0   Inspection ID    60000 non-null  int64  \n",
            " 1   DBA Name         60000 non-null  object \n",
            " 2   AKA Name         59283 non-null  object \n",
            " 3   License #        59996 non-null  float64\n",
            " 4   Facility Type    58573 non-null  object \n",
            " 5   Risk             59976 non-null  object \n",
            " 6   Address          60000 non-null  object \n",
            " 7   City             59955 non-null  object \n",
            " 8   State            59985 non-null  object \n",
            " 9   Zip              59987 non-null  float64\n",
            " 10  Inspection Date  60000 non-null  object \n",
            " 11  Inspection Type  60000 non-null  object \n",
            " 12  Violations       44130 non-null  object \n",
            " 13  Latitude         59822 non-null  float64\n",
            " 14  Longitude        59822 non-null  float64\n",
            " 15  Location         59822 non-null  object \n",
            " 16  Inspection Fail  60000 non-null  int64  \n",
            "dtypes: float64(4), int64(2), object(11)\n",
            "memory usage: 7.8+ MB\n"
          ]
        }
      ],
      "source": [
        "print(\n",
        "    \"\"\"\n",
        "이 셀에서 추가로 데이터를 자유롭게 분석해 보세요.\n",
        "- 이 셀에서의 작업은 채점하지 않습니다.\n",
        "- 채점 시 이 셀에서 작업한 내용은 전부 무시됩니다.\n",
        "- 제출 전에 이 셀의 내용을 모두 주석 처리한 후 모든 코드가 순차적으로 오류 없이 실행되는지 꼭 확인하세요.\n",
        "\"\"\"\n",
        ")\n",
        "train.info()"
      ],
      "id": "89890e8d"
    },
    {
      "cell_type": "markdown",
      "metadata": {
        "id": "4b7abb2a"
      },
      "source": [
        "## 1.2 EDA의 결과를 토대로 Feature Engineering 및 Preprocessing을 수행하는 함수 `eda_process`를 작성하세요.\n",
        "\n",
        "- 결측치를 적절히 처리하세요.\n",
        "    - **Row를 drop하지 말고, 적절한 값으로 채워넣어 보세요.**\n",
        "    - 전처리가 완료된 train, test 데이터의 크기는 각각 **59947, 19994**입니다.\n",
        "- 새로운 feature를 만드는 작업뿐만이 아니라, 필요한 feature가 적절한 데이터 타입을 가지고 있지 않다면 변환합니다.\n",
        "- 시간 배분을 고려햐여 적절한 수준으로 수행하세요!"
      ],
      "id": "4b7abb2a"
    },
    {
      "cell_type": "code",
      "execution_count": 77,
      "metadata": {
        "id": "0db6ee42"
      },
      "outputs": [],
      "source": [
        "# import any libraries needed\n",
        "# YOUR CODE HERE\n",
        "from datetime import datetime\n",
        "\n",
        "# YOUR CODE ENDS HERE\n",
        "\n",
        "\n",
        "def eda_process(df):\n",
        "    # State 컬럼 처리 : 결측치 및 IL이 아닌 row 삭제\n",
        "    df.dropna(subset=[\"State\"], how=\"any\", axis=0, inplace=True)\n",
        "    df = df.query(\"State == 'IL'\")\n",
        "\n",
        "    # Risk : 결측치 및 All 삭제 > 1, 2, 3으로 바꾸어 줌\n",
        "    df.dropna(subset=[\"Risk\"], how=\"any\", axis=0, inplace=True)\n",
        "    df = df.query(\"Risk != 'All'\")\n",
        "    df.replace(\"Risk 1 (High)\", 1, inplace=True)\n",
        "    df.replace(\"Risk 2 (Medium)\", 2, inplace=True)\n",
        "    df.replace(\"Risk 3 (Low)\", 3, inplace=True)\n",
        "\n",
        "    # YOUR CODE HERE\n",
        "    df['Re-Inspection'] = df['Inspection Type'].apply(lambda x: 1 if ('Re-Inspection' in x) else 0)\n",
        "    df.drop(['Inspection Date', 'Inspection ID', 'AKA Name', 'Address', 'State', 'City'], axis=1, inplace=True)\n",
        "    df['Violations'] = df['Violations'].str.extract(r'(\\d+)')\n",
        "    # YOUR CODE ENDS HERE\n",
        "\n",
        "    return df"
      ],
      "id": "0db6ee42"
    },
    {
      "cell_type": "code",
      "execution_count": 78,
      "metadata": {
        "colab": {
          "base_uri": "https://localhost:8080/"
        },
        "id": "e90106c9",
        "outputId": "a964ff5a-5aed-4517-a157-66f7b7290d92"
      },
      "outputs": [
        {
          "output_type": "stream",
          "name": "stdout",
          "text": [
            "(59947, 12) (19994, 12)\n"
          ]
        }
      ],
      "source": [
        "train_processed = eda_process(train.copy())\n",
        "test_processed = eda_process(test.copy())\n",
        "print(train_processed.shape, test_processed.shape)\n",
        "assert len(train_processed) == 59947, \"train data 전처리가 잘못되었습니다. 조건을 다시 확인하세요.\"\n",
        "assert len(test_processed) == 19994, \"test data 전처리가 잘못되었습니다. 조건을 다시 확인하세요.\""
      ],
      "id": "e90106c9"
    },
    {
      "cell_type": "markdown",
      "metadata": {
        "id": "d37ba45b"
      },
      "source": [
        "### 전처리 후 target 분포의 변화를 다시 확인해 보세요."
      ],
      "id": "d37ba45b"
    },
    {
      "cell_type": "code",
      "execution_count": 79,
      "metadata": {
        "colab": {
          "base_uri": "https://localhost:8080/",
          "height": 533
        },
        "id": "1442e4a1",
        "outputId": "d3847739-84c9-4480-9f1f-a9c4f2a24c3f"
      },
      "outputs": [
        {
          "output_type": "display_data",
          "data": {
            "text/plain": [
              "<Figure size 432x288 with 1 Axes>"
            ],
            "image/png": "[encoded data removed]"
          },
          "metadata": {}
        },
        {
          "output_type": "display_data",
          "data": {
            "text/plain": [
              "<Figure size 432x288 with 1 Axes>"
            ],
            "image/png": "[encoded data removed]"
          },
          "metadata": {}
        },
        {
          "output_type": "execute_result",
          "data": {
            "text/plain": [
              "(16096, 3898)"
            ]
          },
          "metadata": {},
          "execution_count": 79
        }
      ],
      "source": [
        "analysis_on_target(train_processed)\n",
        "analysis_on_target(test_processed)"
      ],
      "id": "1442e4a1"
    },
    {
      "cell_type": "markdown",
      "metadata": {
        "id": "90c22148"
      },
      "source": [
        "# Part 2 - Modeling"
      ],
      "id": "90c22148"
    },
    {
      "cell_type": "markdown",
      "metadata": {
        "id": "a003f3e1"
      },
      "source": [
        "## 2.1 데이터를 feature (X), label(y)로 분할하는 `divide_data` 함수를 작성하세요.\n",
        "- Target Column은 `Inspection Fail`입니다."
      ],
      "id": "a003f3e1"
    },
    {
      "cell_type": "code",
      "execution_count": 80,
      "metadata": {
        "id": "a85431a9"
      },
      "outputs": [],
      "source": [
        "def divide_data(df):\n",
        "    X = None\n",
        "    y = None\n",
        "\n",
        "    # YOUR CODE HERE\n",
        "    target = 'Inspection Fail'\n",
        "    features = df.drop(columns=[target]).columns\n",
        "    X = df[features]\n",
        "    y = df[target]\n",
        "    # YOUR CODE ENDS HERE\n",
        "\n",
        "    return X, y"
      ],
      "id": "a85431a9"
    },
    {
      "cell_type": "code",
      "execution_count": 81,
      "metadata": {
        "colab": {
          "base_uri": "https://localhost:8080/"
        },
        "id": "20ec9b5d",
        "outputId": "e01758b8-1a86-423d-ddaf-afbea9ca7b58"
      },
      "outputs": [
        {
          "output_type": "stream",
          "name": "stdout",
          "text": [
            "(59947, 11) (59947,) (19994, 11) (19994,)\n"
          ]
        }
      ],
      "source": [
        "X_train, y_train = divide_data(train_processed)\n",
        "X_test, y_test = divide_data(test_processed)\n",
        "print(X_train.shape, y_train.shape, X_test.shape, y_test.shape)"
      ],
      "id": "20ec9b5d"
    },
    {
      "cell_type": "markdown",
      "metadata": {
        "id": "819f167c"
      },
      "source": [
        "## 2.2 모델을 생성하고 학습하는 `fit` 함수와 1일 확률을 반환하는 `predict` 함수를 작성하세요. \n",
        "- Scikit-learn의 `pipeline`을 활용하여 학습 파이프라인을 생성하세요.\n",
        "- Boosting 모델을 사용하고자 할 경우 XGBoost를 사용하세요.\n",
        "- `RandomizedSearchCV`를 사용해 CV를 진행하세요.\n",
        "    - 적어도 두 개 이상의 하이퍼파라미터에 대해 탐색을 진행하세요.\n",
        "    - **\bAUC score을 최대화하는 하이퍼파라미터 조합을 선택하세요.**\n",
        "- cv는 5 이하, n_iter은 10회 이하로 하세요."
      ],
      "id": "819f167c"
    },
    {
      "cell_type": "code",
      "execution_count": 82,
      "metadata": {
        "id": "5299948c"
      },
      "outputs": [],
      "source": [
        "from sklearn.model_selection import RandomizedSearchCV\n",
        "from sklearn.pipeline import make_pipeline\n",
        "from sklearn.metrics import classification_report\n",
        "\n",
        "# import any libraries needed\n",
        "# YOUR CODE HERE\n",
        "from scipy.stats import randint, uniform\n",
        "from sklearn.impute import SimpleImputer\n",
        "from category_encoders import TargetEncoder\n",
        "from xgboost import XGBClassifier\n",
        "import numpy as np\n",
        "from sklearn.pipeline import Pipeline\n",
        "# YOUR CODE ENDS HERE\n",
        "\n",
        "\n",
        "def fit(X_train, y_train):\n",
        "    pipeline = None  # pipeline = make_pipeline(...)\n",
        "    clf = None  # clf = RandomizedSearchCV(pipeline, ...)\n",
        "\n",
        "    # YOUR CODE HERE\n",
        "    pipe = make_pipeline(\n",
        "    TargetEncoder(), \n",
        "    SimpleImputer(), \n",
        "    XGBClassifier(random_state=42))\n",
        "\n",
        "    dists = {\n",
        "    'targetencoder__smoothing': [100.,500.,1000.], \n",
        "    'targetencoder__min_samples_leaf': randint(1, 10),     \n",
        "    'simpleimputer__strategy': ['median', 'most_frequent'], \n",
        "    'xgbclassifier__learning_rate' : [0.20,0.25,0.30], \n",
        "    'xgbclassifier__max_depth': [5, 10, 15, 20],\n",
        "    'xgbclassifier__n_estimators' : [100, 500, 1000],\n",
        "    'xgbclassifier__scale_pos_weight' : [1, 3, 5]\n",
        "    }\n",
        "\n",
        "    clf = RandomizedSearchCV(\n",
        "    pipe, \n",
        "    param_distributions=dists, \n",
        "    n_iter=10, \n",
        "    cv=3, \n",
        "    scoring='roc_auc',  \n",
        "    verbose=1,\n",
        "    n_jobs=-1) \n",
        "    \n",
        "    # YOUR CODE ENDS HERE\n",
        "\n",
        "    clf.fit(X_train, y_train)\n",
        "    print(\"Optimal Hyperparameter:\", clf.best_params_)\n",
        "    print(\"AUC:\", clf.best_score_)\n",
        "\n",
        "    return clf\n",
        "\n",
        "\n",
        "def predict(X, y, best_estimator):\n",
        "    y_pred_proba = None\n",
        "\n",
        "    # YOUR CODE HERE\n",
        "    y_pred_proba = best_estimator.predict_proba(X)[:, 1]\n",
        "    # YOUR CODE ENDS HERE\n",
        "\n",
        "    report = classification_report(y, y_pred_proba > 0.5)\n",
        "    return y_pred_proba, report"
      ],
      "id": "5299948c"
    },
    {
      "cell_type": "code",
      "execution_count": 83,
      "metadata": {
        "colab": {
          "base_uri": "https://localhost:8080/"
        },
        "id": "0Bxe1LHCToVy",
        "outputId": "1717a426-ad9d-4a8a-e274-70438d7fe887"
      },
      "outputs": [
        {
          "output_type": "stream",
          "name": "stdout",
          "text": [
            "Fitting 3 folds for each of 10 candidates, totalling 30 fits\n",
            "Optimal Hyperparameter: {'simpleimputer__strategy': 'median', 'targetencoder__min_samples_leaf': 6, 'targetencoder__smoothing': 1000.0, 'xgbclassifier__learning_rate': 0.2, 'xgbclassifier__max_depth': 15, 'xgbclassifier__n_estimators': 1000, 'xgbclassifier__scale_pos_weight': 3}\n",
            "AUC: 0.825426271316469\n"
          ]
        }
      ],
      "source": [
        "clf = fit(X_train, y_train)"
      ],
      "id": "0Bxe1LHCToVy"
    },
    {
      "cell_type": "markdown",
      "metadata": {
        "id": "5f8bd689"
      },
      "source": [
        "### 아래 셀을 실행시켜 모델의 Test score을 확인해 보세요.\n",
        "- auc_score > 0.65을 만족하면 기본 성능점수를 얻습니다.\n",
        "- (도전과제) auc_score > 0.8을 만족하면 성능점수 만점을 얻습니다.\n",
        "    - 도전과제까지 수행해야 스챌 3점을 얻습니다. \n",
        "    - 1.3으로 돌아가 다양한 특성 조합을 시도해 보세요. \n",
        "    - 2.2로 돌아가 SearchCV에서 다양한 하이퍼파라미터 옵션 조합을 선택해 보세요.\n",
        "        - 본인이 선택한 모델에서, 각 하이퍼파라미터가 어떤 의미를 가지나요?\n",
        "        - SearchCV가 더 다양한 하이퍼파라미터 조합을 시도하도록 하기 위해 SearchCV의 어떤 옵션을 조정해야 할까요?"
      ],
      "id": "5f8bd689"
    },
    {
      "cell_type": "code",
      "execution_count": 84,
      "metadata": {
        "colab": {
          "base_uri": "https://localhost:8080/",
          "height": 464
        },
        "id": "89861706",
        "outputId": "41bbb3ba-a6b1-4536-afef-66780d307629"
      },
      "outputs": [
        {
          "output_type": "stream",
          "name": "stdout",
          "text": [
            "              precision    recall  f1-score   support\n",
            "\n",
            "           0       0.89      0.93      0.91     16096\n",
            "           1       0.64      0.50      0.56      3898\n",
            "\n",
            "    accuracy                           0.85     19994\n",
            "   macro avg       0.76      0.72      0.74     19994\n",
            "weighted avg       0.84      0.85      0.84     19994\n",
            "\n"
          ]
        },
        {
          "output_type": "display_data",
          "data": {
            "text/plain": [
              "<Figure size 432x288 with 1 Axes>"
            ],
            "image/png": "[encoded data removed]"
          },
          "metadata": {}
        }
      ],
      "source": [
        "from sklearn.metrics import roc_curve, roc_auc_score\n",
        "\n",
        "\n",
        "def plot_roc(y, y_pred_proba):\n",
        "    auc_score = roc_auc_score(y, y_pred_proba)\n",
        "    fpr, tpr, _ = roc_curve(y, y_pred_proba)\n",
        "    baseline_fpr, baseline_tpr, _ = roc_curve(y, [0] * len(y))\n",
        "\n",
        "    plt.style.use(\"ggplot\")\n",
        "    plt.plot(fpr, tpr, label=\"Model\")\n",
        "    plt.plot(baseline_fpr, baseline_tpr, linestyle=\"--\", label=\"Baseline\")\n",
        "    plt.xlabel(\"False Positive Rate\", size=12)\n",
        "    plt.ylabel(\"True Positive Rate\", size=12)\n",
        "    plt.title(\"Receiver Operating Characteristic\")\n",
        "    plt.legend(prop={\"size\": 12})\n",
        "    plt.show()\n",
        "    return auc_score\n",
        "\n",
        "\n",
        "y_test_pred_proba, report = predict(X_test, y_test, clf.best_estimator_)\n",
        "print(report)\n",
        "auc_score = plot_roc(y_test, y_test_pred_proba)"
      ],
      "id": "89861706"
    },
    {
      "cell_type": "code",
      "execution_count": 85,
      "metadata": {
        "colab": {
          "base_uri": "https://localhost:8080/"
        },
        "id": "539e38c1",
        "outputId": "026b16a2-203d-419c-c2ac-20ee7a97eaaf"
      },
      "outputs": [
        {
          "output_type": "stream",
          "name": "stdout",
          "text": [
            "Test AUC: 0.8225123986710828\n"
          ]
        }
      ],
      "source": [
        "print(\"Test AUC:\", auc_score)"
      ],
      "id": "539e38c1"
    },
    {
      "cell_type": "code",
      "execution_count": 86,
      "metadata": {
        "colab": {
          "base_uri": "https://localhost:8080/"
        },
        "id": "f769485e",
        "outputId": "59051575-0c28-4859-bc68-4a5f6fe68dbf"
      },
      "outputs": [
        {
          "output_type": "stream",
          "name": "stdout",
          "text": [
            "Test AUC > 0.8?: True\n"
          ]
        }
      ],
      "source": [
        "print(\"Test AUC > 0.8?:\", auc_score > 0.8)"
      ],
      "id": "f769485e"
    },
    {
      "cell_type": "markdown",
      "metadata": {
        "id": "e6cb7e41"
      },
      "source": [
        "# Part 3 - Visualization\n",
        "- `eli5`의 `PermutationImportance`, `pdpbox` 등의 라이브러리에서는 이미 전처리가 완료되어 수치형 자료로 변환된 독립변수들을 입력으로 받습니다.\n",
        "- 따라서, 2.2에서 생성한 pipeline을 **전처리를 위한 부분**과 **예측 모델**로 나눠 주어야 합니다.\n",
        "    - 전처리를 위한 부분을 거친 후에는 모든 특성들이 수치형이어야 합니다. \n",
        "- 아래 셀에서 해당 과정을 수행해 주세요.\n",
        "    1. `pipeline`을 `preprocess_pipeline`과 `model`로 나눠 주세요.\n",
        "    2. `preprocess_pipeline`으로 `X_test`를 transform하여 `X_test_preprocessed`를 생성하세요."
      ],
      "id": "e6cb7e41"
    },
    {
      "cell_type": "code",
      "execution_count": 87,
      "metadata": {
        "id": "6013dab3"
      },
      "outputs": [],
      "source": [
        "pipeline = clf.best_estimator_\n",
        "\n",
        "# TODO: pipeline을 preprocess_pipeline과 model로 나눠 주세요.\n",
        "preprocess_pipeline = None\n",
        "model = None\n",
        "# YOUR CODE HERE\n",
        "pipe =  Pipeline([\n",
        "    ('preprocess_pipeline', make_pipeline(TargetEncoder(smoothing=1000.0, min_samples_leaf=2), SimpleImputer(strategy='median'))),\n",
        "    ('model', XGBClassifier(learning_rate =  0.25, max_depth = 20, n_estimators = 1000, scale_pos_weight = 3))\n",
        "    ])\n",
        "pipe.fit(X_train, y_train)\n",
        "# YOUR CODE ENDS HERE\n",
        "\n",
        "# TODO: X_test를 preprocess_pipeline에 통과시켜 X_test_preprocessed를 만드세요.\n",
        "X_test_preprocessed = None\n",
        "# YOUR CODE HERE\n",
        "X_test_preprocessed = pipe.named_steps['preprocess_pipeline'].transform(X_test)\n",
        "\n",
        "# YOUR CODE ENDS HERE"
      ],
      "id": "6013dab3"
    },
    {
      "cell_type": "markdown",
      "metadata": {
        "id": "762689a6"
      },
      "source": [
        "## 3.1 Permutation Importance를 계산하는 `get_permutation_importance` 함수를 작성하세요.\n",
        "- AUC score을 기준으로 Permutation Importance를 계산하는 permuter을 생성, fit하여 반환하세요.\n",
        "- `n_iter=5`, `random_state=42`로 하세요."
      ],
      "id": "762689a6"
    },
    {
      "cell_type": "code",
      "execution_count": null,
      "metadata": {
        "id": "lkI10Bo5HrBl"
      },
      "outputs": [],
      "source": [
        "!pip install eli5"
      ],
      "id": "lkI10Bo5HrBl"
    },
    {
      "cell_type": "code",
      "execution_count": 89,
      "metadata": {
        "id": "c2bba75f"
      },
      "outputs": [],
      "source": [
        "# import eli5\n",
        "# import scipy\n",
        "from eli5.sklearn import PermutationImportance\n",
        "\n",
        "\n",
        "def get_permutation_importance(X, y, model):\n",
        "    permuter = None\n",
        "    # permuter = PermutationImportance(..., n_iter=5, random_state=42)\n",
        "\n",
        "    # YOUR CODE HERE\n",
        "    permuter = PermutationImportance(\n",
        "        pipe.named_steps['model'],\n",
        "        scoring='roc_auc', \n",
        "        n_iter=5, \n",
        "        random_state=42)\n",
        "    \n",
        "    # YOUR CODE ENDS HERE\n",
        "    permuter.fit(X, y)\n",
        "\n",
        "    return permuter"
      ],
      "id": "c2bba75f"
    },
    {
      "cell_type": "code",
      "execution_count": 90,
      "metadata": {
        "colab": {
          "base_uri": "https://localhost:8080/"
        },
        "id": "55f96610",
        "outputId": "8bad67b6-0934-4bda-d299-251559d22c4e"
      },
      "outputs": [
        {
          "output_type": "stream",
          "name": "stdout",
          "text": [
            "Top3 Important Features:\n",
            "[('Violations', 0.27393910969789265), ('Inspection Type', 0.055169684178153225), ('License #', 0.01051466024275074)]\n"
          ]
        }
      ],
      "source": [
        "permuter = get_permutation_importance(X_test_preprocessed, y_test, model)\n",
        "eli5.show_weights(permuter, top=None, feature_names=X_test.columns.tolist())\n",
        "print(\"Top3 Important Features:\")\n",
        "p_i = sorted(\n",
        "    list(zip(X_test.columns.tolist(), permuter.feature_importances_)),\n",
        "    key=lambda x: x[1],\n",
        "    reverse=True,\n",
        ")\n",
        "print(p_i[:3])"
      ],
      "id": "55f96610"
    },
    {
      "cell_type": "code",
      "execution_count": 91,
      "metadata": {
        "colab": {
          "base_uri": "https://localhost:8080/",
          "height": 225
        },
        "id": "zBa8PehlUVg8",
        "outputId": "468168ee-e87a-4dee-92af-0e922a6c88a7"
      },
      "outputs": [
        {
          "output_type": "execute_result",
          "data": {
            "text/plain": [
              "<IPython.core.display.HTML object>"
            ],
            "text/html": [
              "\n",
              "    <style>\n",
              "    table.eli5-weights tr:hover {\n",
              "        filter: brightness(85%);\n",
              "    }\n",
              "</style>\n",
              "\n",
              "\n",
              "\n",
              "    \n",
              "\n",
              "    \n",
              "\n",
              "    \n",
              "\n",
              "    \n",
              "\n",
              "    \n",
              "\n",
              "    \n",
              "\n",
              "\n",
              "    \n",
              "\n",
              "    \n",
              "\n",
              "    \n",
              "\n",
              "    \n",
              "\n",
              "    \n",
              "\n",
              "    \n",
              "\n",
              "\n",
              "    \n",
              "\n",
              "    \n",
              "\n",
              "    \n",
              "\n",
              "    \n",
              "\n",
              "    \n",
              "        <table class=\"eli5-weights eli5-feature-importances\" style=\"border-collapse: collapse; border: none; margin-top: 0em; table-layout: auto;\">\n",
              "    <thead>\n",
              "    <tr style=\"border: none;\">\n",
              "        <th style=\"padding: 0 1em 0 0.5em; text-align: right; border: none;\">Weight</th>\n",
              "        <th style=\"padding: 0 0.5em 0 0.5em; text-align: left; border: none;\">Feature</th>\n",
              "    </tr>\n",
              "    </thead>\n",
              "    <tbody>\n",
              "    \n",
              "        <tr style=\"background-color: hsl(120, 100.00%, 80.00%); border: none;\">\n",
              "            <td style=\"padding: 0 1em 0 0.5em; text-align: right; border: none;\">\n",
              "                0.2739\n",
              "                \n",
              "                    &plusmn; 0.0076\n",
              "                \n",
              "            </td>\n",
              "            <td style=\"padding: 0 0.5em 0 0.5em; text-align: left; border: none;\">\n",
              "                Violations\n",
              "            </td>\n",
              "        </tr>\n",
              "    \n",
              "        <tr style=\"background-color: hsl(120, 100.00%, 93.49%); border: none;\">\n",
              "            <td style=\"padding: 0 1em 0 0.5em; text-align: right; border: none;\">\n",
              "                0.0552\n",
              "                \n",
              "                    &plusmn; 0.0018\n",
              "                \n",
              "            </td>\n",
              "            <td style=\"padding: 0 0.5em 0 0.5em; text-align: left; border: none;\">\n",
              "                Inspection Type\n",
              "            </td>\n",
              "        </tr>\n",
              "    \n",
              "        <tr style=\"background-color: hsl(120, 100.00%, 97.96%); border: none;\">\n",
              "            <td style=\"padding: 0 1em 0 0.5em; text-align: right; border: none;\">\n",
              "                0.0105\n",
              "                \n",
              "                    &plusmn; 0.0007\n",
              "                \n",
              "            </td>\n",
              "            <td style=\"padding: 0 0.5em 0 0.5em; text-align: left; border: none;\">\n",
              "                License #\n",
              "            </td>\n",
              "        </tr>\n",
              "    \n",
              "        <tr style=\"background-color: hsl(120, 100.00%, 99.28%); border: none;\">\n",
              "            <td style=\"padding: 0 1em 0 0.5em; text-align: right; border: none;\">\n",
              "                0.0024\n",
              "                \n",
              "                    &plusmn; 0.0004\n",
              "                \n",
              "            </td>\n",
              "            <td style=\"padding: 0 0.5em 0 0.5em; text-align: left; border: none;\">\n",
              "                Risk\n",
              "            </td>\n",
              "        </tr>\n",
              "    \n",
              "        <tr style=\"background-color: hsl(120, 100.00%, 99.42%); border: none;\">\n",
              "            <td style=\"padding: 0 1em 0 0.5em; text-align: right; border: none;\">\n",
              "                0.0017\n",
              "                \n",
              "                    &plusmn; 0.0005\n",
              "                \n",
              "            </td>\n",
              "            <td style=\"padding: 0 0.5em 0 0.5em; text-align: left; border: none;\">\n",
              "                Facility Type\n",
              "            </td>\n",
              "        </tr>\n",
              "    \n",
              "        <tr style=\"background-color: hsl(120, 100.00%, 99.74%); border: none;\">\n",
              "            <td style=\"padding: 0 1em 0 0.5em; text-align: right; border: none;\">\n",
              "                0.0005\n",
              "                \n",
              "                    &plusmn; 0.0005\n",
              "                \n",
              "            </td>\n",
              "            <td style=\"padding: 0 0.5em 0 0.5em; text-align: left; border: none;\">\n",
              "                Longitude\n",
              "            </td>\n",
              "        </tr>\n",
              "    \n",
              "        <tr style=\"background-color: hsl(120, 100.00%, 99.94%); border: none;\">\n",
              "            <td style=\"padding: 0 1em 0 0.5em; text-align: right; border: none;\">\n",
              "                0.0001\n",
              "                \n",
              "                    &plusmn; 0.0010\n",
              "                \n",
              "            </td>\n",
              "            <td style=\"padding: 0 0.5em 0 0.5em; text-align: left; border: none;\">\n",
              "                Latitude\n",
              "            </td>\n",
              "        </tr>\n",
              "    \n",
              "        <tr style=\"background-color: hsl(0, 100.00%, 99.92%); border: none;\">\n",
              "            <td style=\"padding: 0 1em 0 0.5em; text-align: right; border: none;\">\n",
              "                -0.0001\n",
              "                \n",
              "                    &plusmn; 0.0010\n",
              "                \n",
              "            </td>\n",
              "            <td style=\"padding: 0 0.5em 0 0.5em; text-align: left; border: none;\">\n",
              "                Zip\n",
              "            </td>\n",
              "        </tr>\n",
              "    \n",
              "        <tr style=\"background-color: hsl(0, 100.00%, 99.77%); border: none;\">\n",
              "            <td style=\"padding: 0 1em 0 0.5em; text-align: right; border: none;\">\n",
              "                -0.0005\n",
              "                \n",
              "                    &plusmn; 0.0002\n",
              "                \n",
              "            </td>\n",
              "            <td style=\"padding: 0 0.5em 0 0.5em; text-align: left; border: none;\">\n",
              "                Re-Inspection\n",
              "            </td>\n",
              "        </tr>\n",
              "    \n",
              "        <tr style=\"background-color: hsl(0, 100.00%, 98.72%); border: none;\">\n",
              "            <td style=\"padding: 0 1em 0 0.5em; text-align: right; border: none;\">\n",
              "                -0.0054\n",
              "                \n",
              "                    &plusmn; 0.0044\n",
              "                \n",
              "            </td>\n",
              "            <td style=\"padding: 0 0.5em 0 0.5em; text-align: left; border: none;\">\n",
              "                DBA Name\n",
              "            </td>\n",
              "        </tr>\n",
              "    \n",
              "        <tr style=\"background-color: hsl(0, 100.00%, 98.57%); border: none;\">\n",
              "            <td style=\"padding: 0 1em 0 0.5em; text-align: right; border: none;\">\n",
              "                -0.0063\n",
              "                \n",
              "                    &plusmn; 0.0025\n",
              "                \n",
              "            </td>\n",
              "            <td style=\"padding: 0 0.5em 0 0.5em; text-align: left; border: none;\">\n",
              "                Location\n",
              "            </td>\n",
              "        </tr>\n",
              "    \n",
              "    \n",
              "    </tbody>\n",
              "</table>\n",
              "    \n",
              "\n",
              "    \n",
              "\n",
              "\n",
              "    \n",
              "\n",
              "    \n",
              "\n",
              "    \n",
              "\n",
              "    \n",
              "\n",
              "    \n",
              "\n",
              "    \n",
              "\n",
              "\n",
              "\n"
            ]
          },
          "metadata": {},
          "execution_count": 91
        }
      ],
      "source": [
        "eli5.show_weights(\n",
        "    permuter, \n",
        "    top=None, \n",
        "    feature_names=X_test.columns.tolist() \n",
        ")"
      ],
      "id": "zBa8PehlUVg8"
    },
    {
      "cell_type": "markdown",
      "metadata": {
        "id": "2d609bf4"
      },
      "source": [
        "### 위 결과를 기반으로, 아래의 질문에 답해 보세요. \n",
        "- 확인할 수 없으면 `\"모름\"`으로 답하세요.\n",
        "- 답이 하나이면 `String`, 여러 개이면 `List`로 답하세요.\n",
        "\n",
        "\n",
        "- **문제 1.** 평균적으로 모델의 성능에 가장 많은 영향을 주는 특성은 무엇인가요?\n",
        "- **문제 2.** 모델의 예측값과 양의 상관관계를 갖는 특성은 무엇인가요?\n",
        "- **문제 3.** 모델의 예측값과 음의 상관관계를 갖는 특성은 무엇인가요?\n"
      ],
      "id": "2d609bf4"
    },
    {
      "cell_type": "code",
      "execution_count": 92,
      "metadata": {
        "id": "2512abd9"
      },
      "outputs": [],
      "source": [
        "answer_1 = None\n",
        "answer_2 = None\n",
        "answer_3 = None\n",
        "\n",
        "# YOUR CODE HERE\n",
        "answer_1 = \"Violations\"\n",
        "answer_2 = \"모름\"\n",
        "answer_3 = \"모름\"\n",
        "# YOUR CODE ENDS HERE"
      ],
      "id": "2512abd9"
    },
    {
      "cell_type": "code",
      "execution_count": 93,
      "metadata": {
        "colab": {
          "base_uri": "https://localhost:8080/"
        },
        "id": "c1ad3372",
        "outputId": "cba4391c-d88d-4531-b833-53c4095c99ac"
      },
      "outputs": [
        {
          "output_type": "stream",
          "name": "stdout",
          "text": [
            "A1: Violations\n",
            "A2: 모름\n",
            "A3: 모름\n"
          ]
        }
      ],
      "source": [
        "print(\"A1:\", answer_1)\n",
        "print(\"A2:\", answer_2)\n",
        "print(\"A3:\", answer_3)\n"
      ],
      "id": "c1ad3372"
    },
    {
      "cell_type": "markdown",
      "metadata": {
        "id": "1d422067"
      },
      "source": [
        "## 3.2 1변수 PDP Plot을 생성하는 `get_pdp_isolated` 함수를 작성하세요.\n",
        "- `feature`의 특성을 변수로 하는 1변수 PDP Plot을 생성합니다."
      ],
      "id": "1d422067"
    },
    {
      "cell_type": "code",
      "execution_count": 94,
      "metadata": {
        "id": "fbaed864"
      },
      "outputs": [],
      "source": [
        "from pdpbox.pdp import pdp_isolate, pdp_plot\n",
        "\n",
        "\n",
        "def get_pdp_isolated(dataset, model, feature):\n",
        "    pdp_isolated = None\n",
        "\n",
        "    # YOUR CODE HERE\n",
        "    pdp_isolated = pdp_isolate(\n",
        "        model=pipe, \n",
        "        dataset=dataset, \n",
        "        model_features=dataset.columns,\n",
        "        feature=feature)\n",
        "    # YOUR CODE ENDS HERE\n",
        "\n",
        "    return pdp_isolated"
      ],
      "id": "fbaed864"
    },
    {
      "cell_type": "code",
      "execution_count": 95,
      "metadata": {
        "colab": {
          "base_uri": "https://localhost:8080/",
          "height": 633
        },
        "id": "4938e383",
        "outputId": "20902911-94f8-4cf8-c8d2-4c7f9adfd924"
      },
      "outputs": [
        {
          "output_type": "execute_result",
          "data": {
            "text/plain": [
              "(<Figure size 1080x684 with 2 Axes>,\n",
              " {'title_ax': <matplotlib.axes._subplots.AxesSubplot at 0x7f7a96d5f2d0>,\n",
              "  'pdp_ax': <matplotlib.axes._subplots.AxesSubplot at 0x7f7a96d5f850>})"
            ]
          },
          "metadata": {},
          "execution_count": 95
        },
        {
          "output_type": "display_data",
          "data": {
            "text/plain": [
              "<Figure size 1080x684 with 2 Axes>"
            ],
            "image/png": "[encoded data removed]"
          },
          "metadata": {}
        }
      ],
      "source": [
        "X_test_preprocessed_df = pd.DataFrame(X_test_preprocessed, columns=X_test.columns)\n",
        "feature = sorted(p_i, key=lambda x: x[1], reverse=True)[0][0]\n",
        "pdp_isolated = get_pdp_isolated(X_test_preprocessed_df, model, feature)\n",
        "pdp_plot(pdp_isolated, feature_name=feature)"
      ],
      "id": "4938e383"
    },
    {
      "cell_type": "markdown",
      "metadata": {
        "id": "e2e68510"
      },
      "source": [
        "### 위 결과를 기반으로, 아래의 질문에 답해 보세요. \n",
        "- `True`/`False`로 답하고 그 이유를 한 줄로 작성하세요.\n",
        "\n",
        "\n",
        "- **문제 1.** 위 Plot은 해당 특성에 따른 실제 label값의 양상을 나타낸 것이다.\n",
        "- **문제 2.** 위 Plot은 해당 특성에 따른 모델의 label 예측값의 양상을 나타낸 것이다.\n",
        "- **문제 3.** 선형회귀 모델(Linear Regression)에서 isolated PDP는 데이터의 분포와는 무관하게 항상 직선이다.\n",
        "- **문제 4.** 선형회귀 모델(Linear Regression)의 isolated PDP에서 여러 개의 서로 다른 ICE 곡선이 나올 수 있다.\n"
      ],
      "id": "e2e68510"
    },
    {
      "cell_type": "code",
      "execution_count": 96,
      "metadata": {
        "id": "3cd16341"
      },
      "outputs": [],
      "source": [
        "answer_1 = False  # True / False\n",
        "reason_1 = \"\"\n",
        "answer_2 = False  # True / False\n",
        "reason_2 = \"\"\n",
        "answer_3 = False  # True / False\n",
        "reason_3 = \"\"\n",
        "answer_4 = False  # True / False\n",
        "reason_4 = \"\"\n",
        "\n",
        "# YOUR CODE HERE\n",
        "answer_1 = False  # True / False\n",
        "reason_1 = \"실제 label의 양상이 아닌 예측값의 양상을 나타낸다.\"\n",
        "answer_2 = True  # True / False\n",
        "reason_2 = \"PDP 곡선은 label의 예측값의 양상을 나타낸 곡선이다..\"\n",
        "answer_3 = True  # True / False\n",
        "reason_3 = \"선형 회귀 모델의 PDP는 항상 선형 관계를 유지한다.\"\n",
        "answer_4 = False  # True / False\n",
        "reason_4 = \"선형 회귀 모델의 isolated PDP에서는 서로 다른 여러 개의 ICE 곡선이 나올 수 없다.\"\n",
        "# YOUR CODE ENDS HERE"
      ],
      "id": "3cd16341"
    },
    {
      "cell_type": "code",
      "execution_count": 97,
      "metadata": {
        "colab": {
          "base_uri": "https://localhost:8080/"
        },
        "id": "d180ba2b",
        "outputId": "9473315c-2337-4b03-a180-4fad85e41e3f"
      },
      "outputs": [
        {
          "output_type": "stream",
          "name": "stdout",
          "text": [
            "A1: False Why?: 실제 label의 양상이 아닌 예측값의 양상을 나타낸다.\n",
            "A2: True Why?: PDP 곡선은 label의 예측값의 양상을 나타낸 곡선이다..\n",
            "A3: True Why?: 선형 회귀 모델의 PDP는 항상 선형 관계를 유지한다.\n",
            "A4: False Why?: 선형 회귀 모델의 isolated PDP에서는 서로 다른 여러 개의 ICE 곡선이 나올 수 없다.\n"
          ]
        }
      ],
      "source": [
        "print(\"A1:\", answer_1, \"Why?:\", reason_1)\n",
        "print(\"A2:\", answer_2, \"Why?:\", reason_2)\n",
        "print(\"A3:\", answer_3, \"Why?:\", reason_3)\n",
        "print(\"A4:\", answer_4, \"Why?:\", reason_4)"
      ],
      "id": "d180ba2b"
    },
    {
      "cell_type": "markdown",
      "metadata": {
        "id": "61531eeb"
      },
      "source": [
        "## 3.3 2변수 PDP Plot을 생성하는 `get_pdp_interaction` 함수를 작성하세요."
      ],
      "id": "61531eeb"
    },
    {
      "cell_type": "code",
      "execution_count": 98,
      "metadata": {
        "id": "16d17890"
      },
      "outputs": [],
      "source": [
        "from pdpbox.pdp import pdp_interact, pdp_interact_plot\n",
        "\n",
        "\n",
        "def get_pdp_interaction(dataset, model, features):\n",
        "    pdp_interaction = None\n",
        "\n",
        "    # YOUR CODE HERE\n",
        "    pdp_interaction = pdp_interact(\n",
        "        model=pipe, \n",
        "        dataset=dataset,\n",
        "        model_features=dataset.columns, \n",
        "        features=features)\n",
        "    # YOUR CODE ENDS HERE\n",
        "\n",
        "    return pdp_interaction"
      ],
      "id": "16d17890"
    },
    {
      "cell_type": "code",
      "execution_count": 99,
      "metadata": {
        "colab": {
          "base_uri": "https://localhost:8080/",
          "height": 636
        },
        "id": "572813e8",
        "outputId": "b52ec07e-3517-49a3-b301-f3153de6d793"
      },
      "outputs": [
        {
          "output_type": "execute_result",
          "data": {
            "text/plain": [
              "(<Figure size 540x684 with 3 Axes>,\n",
              " {'title_ax': <matplotlib.axes._subplots.AxesSubplot at 0x7f7a96933e50>,\n",
              "  'pdp_inter_ax': <matplotlib.axes._subplots.AxesSubplot at 0x7f7a807ce550>})"
            ]
          },
          "metadata": {},
          "execution_count": 99
        },
        {
          "output_type": "display_data",
          "data": {
            "text/plain": [
              "<Figure size 540x684 with 3 Axes>"
            ],
            "image/png": "[encoded data removed]"
          },
          "metadata": {}
        }
      ],
      "source": [
        "features = list(map(lambda x: x[0], sorted(p_i, key=lambda x: x[1], reverse=True)))[:2]\n",
        "pdp_interaction = get_pdp_interaction(X_test_preprocessed_df, model, features)\n",
        "pdp_interact_plot(pdp_interaction, feature_names=features, plot_type=\"grid\")"
      ],
      "id": "572813e8"
    },
    {
      "cell_type": "markdown",
      "metadata": {
        "id": "67fadf44"
      },
      "source": [
        "---"
      ],
      "id": "67fadf44"
    },
    {
      "cell_type": "markdown",
      "metadata": {
        "id": "23614fbc"
      },
      "source": [
        "# 수고하셨습니다!"
      ],
      "id": "23614fbc"
    }
  ],
  "metadata": {
    "accelerator": "GPU",
    "colab": {
      "provenance": []
    },
    "kernelspec": {
      "display_name": "Python 3 (ipykernel)",
      "language": "python",
      "name": "python3"
    },
    "language_info": {
      "codemirror_mode": {
        "name": "ipython",
        "version": 3
      },
      "file_extension": ".py",
      "mimetype": "text/x-python",
      "name": "python",
      "nbconvert_exporter": "python",
      "pygments_lexer": "ipython3",
      "version": "3.8.9"
    }
  },
  "nbformat": 4,
  "nbformat_minor": 5
}