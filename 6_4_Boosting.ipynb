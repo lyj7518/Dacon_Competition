{
  "nbformat": 4,
  "nbformat_minor": 0,
  "metadata": {
    "colab": {
      "provenance": []
    },
    "kernelspec": {
      "name": "python3",
      "display_name": "Python 3"
    },
    "language_info": {
      "name": "python"
    },
    "accelerator": "GPU"
  },
  "cells": [
    {
      "cell_type": "code",
      "source": [
        "!pip install dmba"
      ],
      "metadata": {
        "id": "AgSi2op7mlg5",
        "colab": {
          "base_uri": "https://localhost:8080/"
        },
        "outputId": "d450bad2-395d-49d5-cb3e-228af71cf554"
      },
      "execution_count": 1,
      "outputs": [
        {
          "output_type": "stream",
          "name": "stdout",
          "text": [
            "\u001b[?25hInstalling collected packages: dmba\n",
            "Successfully installed dmba-0.1.0\n"
          ]
        }
      ]
    },
    {
      "cell_type": "code",
      "source": [
        "import math\n",
        "import os\n",
        "import random\n",
        "from pathlib import Path\n",
        "from collections import defaultdict\n",
        "from itertools import product\n",
        "\n",
        "\n",
        "import pandas as pd\n",
        "import numpy as np\n",
        "\n",
        "from sklearn import preprocessing\n",
        "from sklearn.neighbors import KNeighborsClassifier\n",
        "from sklearn import metrics\n",
        "from sklearn.model_selection import train_test_split\n",
        "from sklearn.tree import DecisionTreeClassifier\n",
        "from sklearn.ensemble import RandomForestClassifier\n",
        "\n",
        "from xgboost import XGBClassifier\n",
        "\n",
        "from dmba import plotDecisionTree, textDecisionTree\n",
        "\n",
        "import seaborn as sns\n",
        "import matplotlib.pyplot as plt\n",
        "from matplotlib.patches import Ellipse\n",
        "\n",
        "%matplotlib inline"
      ],
      "metadata": {
        "colab": {
          "base_uri": "https://localhost:8080/"
        },
        "id": "Z0YJBsrEmeH2",
        "outputId": "9bf01920-e655-4e0d-b626-f8f520bb9230"
      },
      "execution_count": 2,
      "outputs": [
        {
          "output_type": "stream",
          "name": "stdout",
          "text": [
            "no display found. Using non-interactive Agg backend\n"
          ]
        }
      ]
    },
    {
      "cell_type": "code",
      "source": [
        "loan3000 = pd.read_csv(\"/content/drive/MyDrive/loan3000.csv\")"
      ],
      "metadata": {
        "id": "U3wCe5INmvVb"
      },
      "execution_count": 3,
      "outputs": []
    },
    {
      "cell_type": "code",
      "source": [
        "loan3000"
      ],
      "metadata": {
        "colab": {
          "base_uri": "https://localhost:8080/",
          "height": 424
        },
        "id": "xbzfdSKonNwT",
        "outputId": "e1e7b7df-ba45-437f-c542-c89416d8476f"
      },
      "execution_count": 4,
      "outputs": [
        {
          "output_type": "execute_result",
          "data": {
            "text/plain": [
              "      Unnamed: 0   outcome            purpose_    dti  borrower_score  \\\n",
              "0          32109  paid off  debt_consolidation  21.23            0.40   \n",
              "1          16982   default         credit_card  15.49            0.40   \n",
              "2          25335  paid off  debt_consolidation  27.30            0.70   \n",
              "3          34580  paid off      major_purchase  21.11            0.40   \n",
              "4          14424   default  debt_consolidation  16.46            0.45   \n",
              "...          ...       ...                 ...    ...             ...   \n",
              "2995       36589  paid off  debt_consolidation  13.30            0.50   \n",
              "2996       43889  paid off               other   6.09            0.60   \n",
              "2997        7219   default  debt_consolidation  16.13            0.20   \n",
              "2998        8987   default  debt_consolidation  18.39            0.45   \n",
              "2999       11117   default         credit_card  26.67            0.40   \n",
              "\n",
              "      payment_inc_ratio  \n",
              "0               5.11135  \n",
              "1               5.43165  \n",
              "2               9.23003  \n",
              "3               2.33482  \n",
              "4              12.10320  \n",
              "...                 ...  \n",
              "2995           18.36620  \n",
              "2996            1.80421  \n",
              "2997           15.42180  \n",
              "2998            8.92335  \n",
              "2999           12.88190  \n",
              "\n",
              "[3000 rows x 6 columns]"
            ],
            "text/html": [
              "\n",
              "  <div id=\"df-0c3e1268-2fd8-4cad-9af7-7f688021a6e7\">\n",
              "    <div class=\"colab-df-container\">\n",
              "      <div>\n",
              "<style scoped>\n",
              "    .dataframe tbody tr th:only-of-type {\n",
              "        vertical-align: middle;\n",
              "    }\n",
              "\n",
              "    .dataframe tbody tr th {\n",
              "        vertical-align: top;\n",
              "    }\n",
              "\n",
              "    .dataframe thead th {\n",
              "        text-align: right;\n",
              "    }\n",
              "</style>\n",
              "<table border=\"1\" class=\"dataframe\">\n",
              "  <thead>\n",
              "    <tr style=\"text-align: right;\">\n",
              "      <th></th>\n",
              "      <th>Unnamed: 0</th>\n",
              "      <th>outcome</th>\n",
              "      <th>purpose_</th>\n",
              "      <th>dti</th>\n",
              "      <th>borrower_score</th>\n",
              "      <th>payment_inc_ratio</th>\n",
              "    </tr>\n",
              "  </thead>\n",
              "  <tbody>\n",
              "    <tr>\n",
              "      <th>0</th>\n",
              "      <td>32109</td>\n",
              "      <td>paid off</td>\n",
              "      <td>debt_consolidation</td>\n",
              "      <td>21.23</td>\n",
              "      <td>0.40</td>\n",
              "      <td>5.11135</td>\n",
              "    </tr>\n",
              "    <tr>\n",
              "      <th>1</th>\n",
              "      <td>16982</td>\n",
              "      <td>default</td>\n",
              "      <td>credit_card</td>\n",
              "      <td>15.49</td>\n",
              "      <td>0.40</td>\n",
              "      <td>5.43165</td>\n",
              "    </tr>\n",
              "    <tr>\n",
              "      <th>2</th>\n",
              "      <td>25335</td>\n",
              "      <td>paid off</td>\n",
              "      <td>debt_consolidation</td>\n",
              "      <td>27.30</td>\n",
              "      <td>0.70</td>\n",
              "      <td>9.23003</td>\n",
              "    </tr>\n",
              "    <tr>\n",
              "      <th>3</th>\n",
              "      <td>34580</td>\n",
              "      <td>paid off</td>\n",
              "      <td>major_purchase</td>\n",
              "      <td>21.11</td>\n",
              "      <td>0.40</td>\n",
              "      <td>2.33482</td>\n",
              "    </tr>\n",
              "    <tr>\n",
              "      <th>4</th>\n",
              "      <td>14424</td>\n",
              "      <td>default</td>\n",
              "      <td>debt_consolidation</td>\n",
              "      <td>16.46</td>\n",
              "      <td>0.45</td>\n",
              "      <td>12.10320</td>\n",
              "    </tr>\n",
              "    <tr>\n",
              "      <th>...</th>\n",
              "      <td>...</td>\n",
              "      <td>...</td>\n",
              "      <td>...</td>\n",
              "      <td>...</td>\n",
              "      <td>...</td>\n",
              "      <td>...</td>\n",
              "    </tr>\n",
              "    <tr>\n",
              "      <th>2995</th>\n",
              "      <td>36589</td>\n",
              "      <td>paid off</td>\n",
              "      <td>debt_consolidation</td>\n",
              "      <td>13.30</td>\n",
              "      <td>0.50</td>\n",
              "      <td>18.36620</td>\n",
              "    </tr>\n",
              "    <tr>\n",
              "      <th>2996</th>\n",
              "      <td>43889</td>\n",
              "      <td>paid off</td>\n",
              "      <td>other</td>\n",
              "      <td>6.09</td>\n",
              "      <td>0.60</td>\n",
              "      <td>1.80421</td>\n",
              "    </tr>\n",
              "    <tr>\n",
              "      <th>2997</th>\n",
              "      <td>7219</td>\n",
              "      <td>default</td>\n",
              "      <td>debt_consolidation</td>\n",
              "      <td>16.13</td>\n",
              "      <td>0.20</td>\n",
              "      <td>15.42180</td>\n",
              "    </tr>\n",
              "    <tr>\n",
              "      <th>2998</th>\n",
              "      <td>8987</td>\n",
              "      <td>default</td>\n",
              "      <td>debt_consolidation</td>\n",
              "      <td>18.39</td>\n",
              "      <td>0.45</td>\n",
              "      <td>8.92335</td>\n",
              "    </tr>\n",
              "    <tr>\n",
              "      <th>2999</th>\n",
              "      <td>11117</td>\n",
              "      <td>default</td>\n",
              "      <td>credit_card</td>\n",
              "      <td>26.67</td>\n",
              "      <td>0.40</td>\n",
              "      <td>12.88190</td>\n",
              "    </tr>\n",
              "  </tbody>\n",
              "</table>\n",
              "<p>3000 rows × 6 columns</p>\n",
              "</div>\n",
              "      <button class=\"colab-df-convert\" onclick=\"convertToInteractive('df-0c3e1268-2fd8-4cad-9af7-7f688021a6e7')\"\n",
              "              title=\"Convert this dataframe to an interactive table.\"\n",
              "              style=\"display:none;\">\n",
              "        \n",
              "  <svg xmlns=\"http://www.w3.org/2000/svg\" height=\"24px\"viewBox=\"0 0 24 24\"\n",
              "       width=\"24px\">\n",
              "    <path d=\"M0 0h24v24H0V0z\" fill=\"none\"/>\n",
              "    <path d=\"M18.56 5.44l.94 2.06.94-2.06 2.06-.94-2.06-.94-.94-2.06-.94 2.06-2.06.94zm-11 1L8.5 8.5l.94-2.06 2.06-.94-2.06-.94L8.5 2.5l-.94 2.06-2.06.94zm10 10l.94 2.06.94-2.06 2.06-.94-2.06-.94-.94-2.06-.94 2.06-2.06.94z\"/><path d=\"M17.41 7.96l-1.37-1.37c-.4-.4-.92-.59-1.43-.59-.52 0-1.04.2-1.43.59L10.3 9.45l-7.72 7.72c-.78.78-.78 2.05 0 2.83L4 21.41c.39.39.9.59 1.41.59.51 0 1.02-.2 1.41-.59l7.78-7.78 2.81-2.81c.8-.78.8-2.07 0-2.86zM5.41 20L4 18.59l7.72-7.72 1.47 1.35L5.41 20z\"/>\n",
              "  </svg>\n",
              "      </button>\n",
              "      \n",
              "  <style>\n",
              "    .colab-df-container {\n",
              "      display:flex;\n",
              "      flex-wrap:wrap;\n",
              "      gap: 12px;\n",
              "    }\n",
              "\n",
              "    .colab-df-convert {\n",
              "      background-color: #E8F0FE;\n",
              "      border: none;\n",
              "      border-radius: 50%;\n",
              "      cursor: pointer;\n",
              "      display: none;\n",
              "      fill: #1967D2;\n",
              "      height: 32px;\n",
              "      padding: 0 0 0 0;\n",
              "      width: 32px;\n",
              "    }\n",
              "\n",
              "    .colab-df-convert:hover {\n",
              "      background-color: #E2EBFA;\n",
              "      box-shadow: 0px 1px 2px rgba(60, 64, 67, 0.3), 0px 1px 3px 1px rgba(60, 64, 67, 0.15);\n",
              "      fill: #174EA6;\n",
              "    }\n",
              "\n",
              "    [theme=dark] .colab-df-convert {\n",
              "      background-color: #3B4455;\n",
              "      fill: #D2E3FC;\n",
              "    }\n",
              "\n",
              "    [theme=dark] .colab-df-convert:hover {\n",
              "      background-color: #434B5C;\n",
              "      box-shadow: 0px 1px 3px 1px rgba(0, 0, 0, 0.15);\n",
              "      filter: drop-shadow(0px 1px 2px rgba(0, 0, 0, 0.3));\n",
              "      fill: #FFFFFF;\n",
              "    }\n",
              "  </style>\n",
              "\n",
              "      <script>\n",
              "        const buttonEl =\n",
              "          document.querySelector('#df-0c3e1268-2fd8-4cad-9af7-7f688021a6e7 button.colab-df-convert');\n",
              "        buttonEl.style.display =\n",
              "          google.colab.kernel.accessAllowed ? 'block' : 'none';\n",
              "\n",
              "        async function convertToInteractive(key) {\n",
              "          const element = document.querySelector('#df-0c3e1268-2fd8-4cad-9af7-7f688021a6e7');\n",
              "          const dataTable =\n",
              "            await google.colab.kernel.invokeFunction('convertToInteractive',\n",
              "                                                     [key], {});\n",
              "          if (!dataTable) return;\n",
              "\n",
              "          const docLinkHtml = 'Like what you see? Visit the ' +\n",
              "            '<a target=\"_blank\" href=https://colab.research.google.com/notebooks/data_table.ipynb>data table notebook</a>'\n",
              "            + ' to learn more about interactive tables.';\n",
              "          element.innerHTML = '';\n",
              "          dataTable['output_type'] = 'display_data';\n",
              "          await google.colab.output.renderOutput(dataTable, element);\n",
              "          const docLink = document.createElement('div');\n",
              "          docLink.innerHTML = docLinkHtml;\n",
              "          element.appendChild(docLink);\n",
              "        }\n",
              "      </script>\n",
              "    </div>\n",
              "  </div>\n",
              "  "
            ]
          },
          "metadata": {},
          "execution_count": 4
        }
      ]
    },
    {
      "cell_type": "markdown",
      "source": [
        "- outcome : 응답변수, 대출 모두 갚았으면 0 / 연체이면 1\n",
        "- purpose_ : 대출 목적\n",
        "- dti : 소득 대비 부채 비율\n",
        "- borrow_score : 차용인의 신용도 (0~1 scale)\n",
        "- payment_inc_ratio : 소득 대비 대출 상환 비율\n"
      ],
      "metadata": {
        "id": "7wHMwQAIoK9y"
      }
    },
    {
      "cell_type": "code",
      "source": [
        "loan_data = pd.read_csv('/content/drive/MyDrive/loan_data.csv.gz', index_col=0)\n",
        "loan_data"
      ],
      "metadata": {
        "colab": {
          "base_uri": "https://localhost:8080/",
          "height": 661
        },
        "id": "0HmVomjvwfp4",
        "outputId": "49f85fbd-98cb-46a5-a9cd-d72acb7eceb1"
      },
      "execution_count": 5,
      "outputs": [
        {
          "output_type": "execute_result",
          "data": {
            "text/plain": [
              "            status  loan_amnt       term  annual_inc    dti  \\\n",
              "1      Charged Off       2500  60 months       30000   1.00   \n",
              "2      Charged Off       5600  60 months       40000   5.55   \n",
              "3      Charged Off       5375  60 months       15000  18.08   \n",
              "4      Charged Off       9000  36 months       30000  10.08   \n",
              "5      Charged Off      10000  36 months      100000   7.06   \n",
              "...            ...        ...        ...         ...    ...   \n",
              "45338   Fully Paid       8000  36 months       72000  18.97   \n",
              "45339   Fully Paid       2000  36 months       25200  13.24   \n",
              "45340   Fully Paid       4375  36 months       20000   7.95   \n",
              "45341   Fully Paid       8000  36 months       48000  26.91   \n",
              "45342   Fully Paid      35000  60 months      100000   7.82   \n",
              "\n",
              "       payment_inc_ratio  revol_bal  revol_util             purpose  \\\n",
              "1                2.39320       1687         9.4                 car   \n",
              "2                4.57170       5210        32.6      small_business   \n",
              "3                9.71600       9279        36.5               other   \n",
              "4               12.21520      10452        91.7  debt_consolidation   \n",
              "5                3.90888      11997        55.5               other   \n",
              "...                  ...        ...         ...                 ...   \n",
              "45338            4.57850       9725        58.2         credit_card   \n",
              "45339            3.20333       4925        40.7             wedding   \n",
              "45340            9.98460       6574        73.0  debt_consolidation   \n",
              "45341            6.45250      10303        32.4  debt_consolidation   \n",
              "45342           11.87150      16676        91.6  debt_consolidation   \n",
              "\n",
              "      home_ownership  delinq_2yrs_zero  pub_rec_zero  open_acc  grade  \\\n",
              "1               RENT                 1             1         3    4.8   \n",
              "2                OWN                 1             1        11    1.4   \n",
              "3               RENT                 1             1         2    6.0   \n",
              "4               RENT                 1             1         4    4.2   \n",
              "5               RENT                 1             1        14    5.4   \n",
              "...              ...               ...           ...       ...    ...   \n",
              "45338           RENT                 1             0         9    4.2   \n",
              "45339       MORTGAGE                 0             1        13    4.2   \n",
              "45340       MORTGAGE                 1             1         8    2.4   \n",
              "45341       MORTGAGE                 1             1        10    5.2   \n",
              "45342       MORTGAGE                 0             1        13    0.4   \n",
              "\n",
              "        outcome  emp_length            purpose_     home_   emp_len_  \\\n",
              "1       default           1      major_purchase      RENT   > 1 Year   \n",
              "2       default           5      small_business       OWN   > 1 Year   \n",
              "3       default           1               other      RENT   > 1 Year   \n",
              "4       default           1  debt_consolidation      RENT   > 1 Year   \n",
              "5       default           4               other      RENT   > 1 Year   \n",
              "...         ...         ...                 ...       ...        ...   \n",
              "45338  paid off           8         credit_card      RENT   > 1 Year   \n",
              "45339  paid off           3               other  MORTGAGE   > 1 Year   \n",
              "45340  paid off           1  debt_consolidation  MORTGAGE   > 1 Year   \n",
              "45341  paid off           1  debt_consolidation  MORTGAGE   > 1 Year   \n",
              "45342  paid off           9  debt_consolidation  MORTGAGE   > 1 Year   \n",
              "\n",
              "       borrower_score  \n",
              "1                0.65  \n",
              "2                0.80  \n",
              "3                0.60  \n",
              "4                0.50  \n",
              "5                0.55  \n",
              "...               ...  \n",
              "45338            0.35  \n",
              "45339            0.50  \n",
              "45340            0.55  \n",
              "45341            0.65  \n",
              "45342            0.50  \n",
              "\n",
              "[45342 rows x 20 columns]"
            ],
            "text/html": [
              "\n",
              "  <div id=\"df-61ec5112-bf13-41bd-8500-536824a21ff7\">\n",
              "    <div class=\"colab-df-container\">\n",
              "      <div>\n",
              "<style scoped>\n",
              "    .dataframe tbody tr th:only-of-type {\n",
              "        vertical-align: middle;\n",
              "    }\n",
              "\n",
              "    .dataframe tbody tr th {\n",
              "        vertical-align: top;\n",
              "    }\n",
              "\n",
              "    .dataframe thead th {\n",
              "        text-align: right;\n",
              "    }\n",
              "</style>\n",
              "<table border=\"1\" class=\"dataframe\">\n",
              "  <thead>\n",
              "    <tr style=\"text-align: right;\">\n",
              "      <th></th>\n",
              "      <th>status</th>\n",
              "      <th>loan_amnt</th>\n",
              "      <th>term</th>\n",
              "      <th>annual_inc</th>\n",
              "      <th>dti</th>\n",
              "      <th>payment_inc_ratio</th>\n",
              "      <th>revol_bal</th>\n",
              "      <th>revol_util</th>\n",
              "      <th>purpose</th>\n",
              "      <th>home_ownership</th>\n",
              "      <th>delinq_2yrs_zero</th>\n",
              "      <th>pub_rec_zero</th>\n",
              "      <th>open_acc</th>\n",
              "      <th>grade</th>\n",
              "      <th>outcome</th>\n",
              "      <th>emp_length</th>\n",
              "      <th>purpose_</th>\n",
              "      <th>home_</th>\n",
              "      <th>emp_len_</th>\n",
              "      <th>borrower_score</th>\n",
              "    </tr>\n",
              "  </thead>\n",
              "  <tbody>\n",
              "    <tr>\n",
              "      <th>1</th>\n",
              "      <td>Charged Off</td>\n",
              "      <td>2500</td>\n",
              "      <td>60 months</td>\n",
              "      <td>30000</td>\n",
              "      <td>1.00</td>\n",
              "      <td>2.39320</td>\n",
              "      <td>1687</td>\n",
              "      <td>9.4</td>\n",
              "      <td>car</td>\n",
              "      <td>RENT</td>\n",
              "      <td>1</td>\n",
              "      <td>1</td>\n",
              "      <td>3</td>\n",
              "      <td>4.8</td>\n",
              "      <td>default</td>\n",
              "      <td>1</td>\n",
              "      <td>major_purchase</td>\n",
              "      <td>RENT</td>\n",
              "      <td>&gt; 1 Year</td>\n",
              "      <td>0.65</td>\n",
              "    </tr>\n",
              "    <tr>\n",
              "      <th>2</th>\n",
              "      <td>Charged Off</td>\n",
              "      <td>5600</td>\n",
              "      <td>60 months</td>\n",
              "      <td>40000</td>\n",
              "      <td>5.55</td>\n",
              "      <td>4.57170</td>\n",
              "      <td>5210</td>\n",
              "      <td>32.6</td>\n",
              "      <td>small_business</td>\n",
              "      <td>OWN</td>\n",
              "      <td>1</td>\n",
              "      <td>1</td>\n",
              "      <td>11</td>\n",
              "      <td>1.4</td>\n",
              "      <td>default</td>\n",
              "      <td>5</td>\n",
              "      <td>small_business</td>\n",
              "      <td>OWN</td>\n",
              "      <td>&gt; 1 Year</td>\n",
              "      <td>0.80</td>\n",
              "    </tr>\n",
              "    <tr>\n",
              "      <th>3</th>\n",
              "      <td>Charged Off</td>\n",
              "      <td>5375</td>\n",
              "      <td>60 months</td>\n",
              "      <td>15000</td>\n",
              "      <td>18.08</td>\n",
              "      <td>9.71600</td>\n",
              "      <td>9279</td>\n",
              "      <td>36.5</td>\n",
              "      <td>other</td>\n",
              "      <td>RENT</td>\n",
              "      <td>1</td>\n",
              "      <td>1</td>\n",
              "      <td>2</td>\n",
              "      <td>6.0</td>\n",
              "      <td>default</td>\n",
              "      <td>1</td>\n",
              "      <td>other</td>\n",
              "      <td>RENT</td>\n",
              "      <td>&gt; 1 Year</td>\n",
              "      <td>0.60</td>\n",
              "    </tr>\n",
              "    <tr>\n",
              "      <th>4</th>\n",
              "      <td>Charged Off</td>\n",
              "      <td>9000</td>\n",
              "      <td>36 months</td>\n",
              "      <td>30000</td>\n",
              "      <td>10.08</td>\n",
              "      <td>12.21520</td>\n",
              "      <td>10452</td>\n",
              "      <td>91.7</td>\n",
              "      <td>debt_consolidation</td>\n",
              "      <td>RENT</td>\n",
              "      <td>1</td>\n",
              "      <td>1</td>\n",
              "      <td>4</td>\n",
              "      <td>4.2</td>\n",
              "      <td>default</td>\n",
              "      <td>1</td>\n",
              "      <td>debt_consolidation</td>\n",
              "      <td>RENT</td>\n",
              "      <td>&gt; 1 Year</td>\n",
              "      <td>0.50</td>\n",
              "    </tr>\n",
              "    <tr>\n",
              "      <th>5</th>\n",
              "      <td>Charged Off</td>\n",
              "      <td>10000</td>\n",
              "      <td>36 months</td>\n",
              "      <td>100000</td>\n",
              "      <td>7.06</td>\n",
              "      <td>3.90888</td>\n",
              "      <td>11997</td>\n",
              "      <td>55.5</td>\n",
              "      <td>other</td>\n",
              "      <td>RENT</td>\n",
              "      <td>1</td>\n",
              "      <td>1</td>\n",
              "      <td>14</td>\n",
              "      <td>5.4</td>\n",
              "      <td>default</td>\n",
              "      <td>4</td>\n",
              "      <td>other</td>\n",
              "      <td>RENT</td>\n",
              "      <td>&gt; 1 Year</td>\n",
              "      <td>0.55</td>\n",
              "    </tr>\n",
              "    <tr>\n",
              "      <th>...</th>\n",
              "      <td>...</td>\n",
              "      <td>...</td>\n",
              "      <td>...</td>\n",
              "      <td>...</td>\n",
              "      <td>...</td>\n",
              "      <td>...</td>\n",
              "      <td>...</td>\n",
              "      <td>...</td>\n",
              "      <td>...</td>\n",
              "      <td>...</td>\n",
              "      <td>...</td>\n",
              "      <td>...</td>\n",
              "      <td>...</td>\n",
              "      <td>...</td>\n",
              "      <td>...</td>\n",
              "      <td>...</td>\n",
              "      <td>...</td>\n",
              "      <td>...</td>\n",
              "      <td>...</td>\n",
              "      <td>...</td>\n",
              "    </tr>\n",
              "    <tr>\n",
              "      <th>45338</th>\n",
              "      <td>Fully Paid</td>\n",
              "      <td>8000</td>\n",
              "      <td>36 months</td>\n",
              "      <td>72000</td>\n",
              "      <td>18.97</td>\n",
              "      <td>4.57850</td>\n",
              "      <td>9725</td>\n",
              "      <td>58.2</td>\n",
              "      <td>credit_card</td>\n",
              "      <td>RENT</td>\n",
              "      <td>1</td>\n",
              "      <td>0</td>\n",
              "      <td>9</td>\n",
              "      <td>4.2</td>\n",
              "      <td>paid off</td>\n",
              "      <td>8</td>\n",
              "      <td>credit_card</td>\n",
              "      <td>RENT</td>\n",
              "      <td>&gt; 1 Year</td>\n",
              "      <td>0.35</td>\n",
              "    </tr>\n",
              "    <tr>\n",
              "      <th>45339</th>\n",
              "      <td>Fully Paid</td>\n",
              "      <td>2000</td>\n",
              "      <td>36 months</td>\n",
              "      <td>25200</td>\n",
              "      <td>13.24</td>\n",
              "      <td>3.20333</td>\n",
              "      <td>4925</td>\n",
              "      <td>40.7</td>\n",
              "      <td>wedding</td>\n",
              "      <td>MORTGAGE</td>\n",
              "      <td>0</td>\n",
              "      <td>1</td>\n",
              "      <td>13</td>\n",
              "      <td>4.2</td>\n",
              "      <td>paid off</td>\n",
              "      <td>3</td>\n",
              "      <td>other</td>\n",
              "      <td>MORTGAGE</td>\n",
              "      <td>&gt; 1 Year</td>\n",
              "      <td>0.50</td>\n",
              "    </tr>\n",
              "    <tr>\n",
              "      <th>45340</th>\n",
              "      <td>Fully Paid</td>\n",
              "      <td>4375</td>\n",
              "      <td>36 months</td>\n",
              "      <td>20000</td>\n",
              "      <td>7.95</td>\n",
              "      <td>9.98460</td>\n",
              "      <td>6574</td>\n",
              "      <td>73.0</td>\n",
              "      <td>debt_consolidation</td>\n",
              "      <td>MORTGAGE</td>\n",
              "      <td>1</td>\n",
              "      <td>1</td>\n",
              "      <td>8</td>\n",
              "      <td>2.4</td>\n",
              "      <td>paid off</td>\n",
              "      <td>1</td>\n",
              "      <td>debt_consolidation</td>\n",
              "      <td>MORTGAGE</td>\n",
              "      <td>&gt; 1 Year</td>\n",
              "      <td>0.55</td>\n",
              "    </tr>\n",
              "    <tr>\n",
              "      <th>45341</th>\n",
              "      <td>Fully Paid</td>\n",
              "      <td>8000</td>\n",
              "      <td>36 months</td>\n",
              "      <td>48000</td>\n",
              "      <td>26.91</td>\n",
              "      <td>6.45250</td>\n",
              "      <td>10303</td>\n",
              "      <td>32.4</td>\n",
              "      <td>debt_consolidation</td>\n",
              "      <td>MORTGAGE</td>\n",
              "      <td>1</td>\n",
              "      <td>1</td>\n",
              "      <td>10</td>\n",
              "      <td>5.2</td>\n",
              "      <td>paid off</td>\n",
              "      <td>1</td>\n",
              "      <td>debt_consolidation</td>\n",
              "      <td>MORTGAGE</td>\n",
              "      <td>&gt; 1 Year</td>\n",
              "      <td>0.65</td>\n",
              "    </tr>\n",
              "    <tr>\n",
              "      <th>45342</th>\n",
              "      <td>Fully Paid</td>\n",
              "      <td>35000</td>\n",
              "      <td>60 months</td>\n",
              "      <td>100000</td>\n",
              "      <td>7.82</td>\n",
              "      <td>11.87150</td>\n",
              "      <td>16676</td>\n",
              "      <td>91.6</td>\n",
              "      <td>debt_consolidation</td>\n",
              "      <td>MORTGAGE</td>\n",
              "      <td>0</td>\n",
              "      <td>1</td>\n",
              "      <td>13</td>\n",
              "      <td>0.4</td>\n",
              "      <td>paid off</td>\n",
              "      <td>9</td>\n",
              "      <td>debt_consolidation</td>\n",
              "      <td>MORTGAGE</td>\n",
              "      <td>&gt; 1 Year</td>\n",
              "      <td>0.50</td>\n",
              "    </tr>\n",
              "  </tbody>\n",
              "</table>\n",
              "<p>45342 rows × 20 columns</p>\n",
              "</div>\n",
              "      <button class=\"colab-df-convert\" onclick=\"convertToInteractive('df-61ec5112-bf13-41bd-8500-536824a21ff7')\"\n",
              "              title=\"Convert this dataframe to an interactive table.\"\n",
              "              style=\"display:none;\">\n",
              "        \n",
              "  <svg xmlns=\"http://www.w3.org/2000/svg\" height=\"24px\"viewBox=\"0 0 24 24\"\n",
              "       width=\"24px\">\n",
              "    <path d=\"M0 0h24v24H0V0z\" fill=\"none\"/>\n",
              "    <path d=\"M18.56 5.44l.94 2.06.94-2.06 2.06-.94-2.06-.94-.94-2.06-.94 2.06-2.06.94zm-11 1L8.5 8.5l.94-2.06 2.06-.94-2.06-.94L8.5 2.5l-.94 2.06-2.06.94zm10 10l.94 2.06.94-2.06 2.06-.94-2.06-.94-.94-2.06-.94 2.06-2.06.94z\"/><path d=\"M17.41 7.96l-1.37-1.37c-.4-.4-.92-.59-1.43-.59-.52 0-1.04.2-1.43.59L10.3 9.45l-7.72 7.72c-.78.78-.78 2.05 0 2.83L4 21.41c.39.39.9.59 1.41.59.51 0 1.02-.2 1.41-.59l7.78-7.78 2.81-2.81c.8-.78.8-2.07 0-2.86zM5.41 20L4 18.59l7.72-7.72 1.47 1.35L5.41 20z\"/>\n",
              "  </svg>\n",
              "      </button>\n",
              "      \n",
              "  <style>\n",
              "    .colab-df-container {\n",
              "      display:flex;\n",
              "      flex-wrap:wrap;\n",
              "      gap: 12px;\n",
              "    }\n",
              "\n",
              "    .colab-df-convert {\n",
              "      background-color: #E8F0FE;\n",
              "      border: none;\n",
              "      border-radius: 50%;\n",
              "      cursor: pointer;\n",
              "      display: none;\n",
              "      fill: #1967D2;\n",
              "      height: 32px;\n",
              "      padding: 0 0 0 0;\n",
              "      width: 32px;\n",
              "    }\n",
              "\n",
              "    .colab-df-convert:hover {\n",
              "      background-color: #E2EBFA;\n",
              "      box-shadow: 0px 1px 2px rgba(60, 64, 67, 0.3), 0px 1px 3px 1px rgba(60, 64, 67, 0.15);\n",
              "      fill: #174EA6;\n",
              "    }\n",
              "\n",
              "    [theme=dark] .colab-df-convert {\n",
              "      background-color: #3B4455;\n",
              "      fill: #D2E3FC;\n",
              "    }\n",
              "\n",
              "    [theme=dark] .colab-df-convert:hover {\n",
              "      background-color: #434B5C;\n",
              "      box-shadow: 0px 1px 3px 1px rgba(0, 0, 0, 0.15);\n",
              "      filter: drop-shadow(0px 1px 2px rgba(0, 0, 0, 0.3));\n",
              "      fill: #FFFFFF;\n",
              "    }\n",
              "  </style>\n",
              "\n",
              "      <script>\n",
              "        const buttonEl =\n",
              "          document.querySelector('#df-61ec5112-bf13-41bd-8500-536824a21ff7 button.colab-df-convert');\n",
              "        buttonEl.style.display =\n",
              "          google.colab.kernel.accessAllowed ? 'block' : 'none';\n",
              "\n",
              "        async function convertToInteractive(key) {\n",
              "          const element = document.querySelector('#df-61ec5112-bf13-41bd-8500-536824a21ff7');\n",
              "          const dataTable =\n",
              "            await google.colab.kernel.invokeFunction('convertToInteractive',\n",
              "                                                     [key], {});\n",
              "          if (!dataTable) return;\n",
              "\n",
              "          const docLinkHtml = 'Like what you see? Visit the ' +\n",
              "            '<a target=\"_blank\" href=https://colab.research.google.com/notebooks/data_table.ipynb>data table notebook</a>'\n",
              "            + ' to learn more about interactive tables.';\n",
              "          element.innerHTML = '';\n",
              "          dataTable['output_type'] = 'display_data';\n",
              "          await google.colab.output.renderOutput(dataTable, element);\n",
              "          const docLink = document.createElement('div');\n",
              "          docLink.innerHTML = docLinkHtml;\n",
              "          element.appendChild(docLink);\n",
              "        }\n",
              "      </script>\n",
              "    </div>\n",
              "  </div>\n",
              "  "
            ]
          },
          "metadata": {},
          "execution_count": 5
        }
      ]
    },
    {
      "cell_type": "markdown",
      "source": [
        "## **1. XG부스트**"
      ],
      "metadata": {
        "id": "i-qcytwDmDpo"
      }
    },
    {
      "cell_type": "code",
      "execution_count": 6,
      "metadata": {
        "colab": {
          "base_uri": "https://localhost:8080/"
        },
        "id": "YZdktUK9lnJf",
        "outputId": "4f895786-ec3a-4da6-e9dd-f228fbaaa763"
      },
      "outputs": [
        {
          "output_type": "stream",
          "name": "stdout",
          "text": [
            "XGBClassifier(eval_metric='error', subsample=0.63, use_label_encoder=False)\n"
          ]
        }
      ],
      "source": [
        "# xgboost 모델\n",
        "predictors = ['borrower_score', 'payment_inc_ratio']\n",
        "outcome = 'outcome'\n",
        "\n",
        "X = loan3000[predictors]\n",
        "y = pd.Series([1 if o == 'default' else 0 for o in loan3000[outcome]])\n",
        "\n",
        "xgb = XGBClassifier(objective='binary:logistic', subsample=.63, \n",
        "                    use_label_encoder=False, eval_metric='error')\n",
        "print(xgb.fit(X, y))"
      ]
    },
    {
      "cell_type": "markdown",
      "source": [
        "- object : 문제가 어떤 종류인지 설정\n",
        "- subsample : 각 반복 구간마다 샘플링할 입력 데이터의 비율 조정\n",
        "- eval_metric : 오류를 측정할 평가 지표 설정"
      ],
      "metadata": {
        "id": "996_F8G1rG-v"
      }
    },
    {
      "cell_type": "code",
      "source": [
        "# 예측 확률 print\n",
        "xgb_df = X.copy()\n",
        "xgb_df['prediction'] = ['default' if p == 1 else 'paid off' for p in xgb.predict(X)]\n",
        "xgb_df['prob_default'] = xgb.predict_proba(X)[:, 0]\n",
        "print(xgb_df.head())"
      ],
      "metadata": {
        "colab": {
          "base_uri": "https://localhost:8080/"
        },
        "id": "yo67-UdUmNV8",
        "outputId": "1f4c436e-9ed5-4330-8834-4e6f2fdf8292"
      },
      "execution_count": 7,
      "outputs": [
        {
          "output_type": "stream",
          "name": "stdout",
          "text": [
            "   borrower_score  payment_inc_ratio prediction  prob_default\n",
            "0            0.40            5.11135   paid off      0.560805\n",
            "1            0.40            5.43165    default      0.442436\n",
            "2            0.70            9.23003   paid off      0.684751\n",
            "3            0.40            2.33482   paid off      0.538130\n",
            "4            0.45           12.10320    default      0.369834\n"
          ]
        }
      ]
    },
    {
      "cell_type": "code",
      "source": [
        "# 대출 데이터에 대한 XG부스트의 예측 결과 그래프\n",
        "fig, ax = plt.subplots(figsize=(6, 4))\n",
        "\n",
        "xgb_df.loc[xgb_df.prediction=='paid off'].plot(\n",
        "    x='borrower_score', y='payment_inc_ratio', style='.', \n",
        "    markerfacecolor='none', markeredgecolor='C1', ax=ax)\n",
        "xgb_df.loc[xgb_df.prediction=='default'].plot(\n",
        "    x='borrower_score', y='payment_inc_ratio', style='o', \n",
        "    markerfacecolor='none', markeredgecolor='C0', ax=ax)\n",
        "ax.legend(['paid off', 'default']);\n",
        "ax.set_xlim(0, 1)\n",
        "ax.set_ylim(0, 25)\n",
        "ax.set_xlabel('borrower_score')\n",
        "ax.set_ylabel('payment_inc_ratio')\n",
        "\n",
        "plt.tight_layout()\n",
        "plt.show()"
      ],
      "metadata": {
        "colab": {
          "base_uri": "https://localhost:8080/",
          "height": 297
        },
        "id": "vlR4LY2oqfir",
        "outputId": "0135765a-4d59-437f-f175-cd9c9358b26a"
      },
      "execution_count": 8,
      "outputs": [
        {
          "output_type": "display_data",
          "data": {
            "text/plain": [
              "<Figure size 432x288 with 1 Axes>"
            ],
            "image/png": "[encoded data removed]"
          },
          "metadata": {
            "needs_background": "light"
          }
        }
      ]
    },
    {
      "cell_type": "markdown",
      "source": [
        "- 전체적으로 랜덤 포레스트를 이용했을 때와 비슷한 결과\n",
        "- 예측 결과가 다소 복잡하고, 가끔 신용점수가 높은 경우인데도 예측 결과가 연체(default)로 나오기도 함"
      ],
      "metadata": {
        "id": "lbQu8I0Hs8V9"
      }
    },
    {
      "cell_type": "markdown",
      "source": [
        "## **2. 정규화 : 오버피팅 피하기**"
      ],
      "metadata": {
        "id": "9O4JdfGtwOE4"
      }
    },
    {
      "cell_type": "code",
      "source": [
        "predictors = ['loan_amnt', 'term', 'annual_inc', 'dti', \n",
        "              'payment_inc_ratio', 'revol_bal', 'revol_util', \n",
        "              'purpose', 'delinq_2yrs_zero', 'pub_rec_zero', \n",
        "              'open_acc', 'grade', 'emp_length', 'purpose_', \n",
        "              'home_', 'emp_len_', 'borrower_score']\n",
        "outcome = 'outcome'\n",
        "\n",
        "X = pd.get_dummies(loan_data[predictors], drop_first=True)\n",
        "y = pd.Series([1 if o == 'default' else 0 for o in loan_data[outcome]])\n",
        "\n",
        "# 학습 / 검증 데이터 분리\n",
        "train_X, valid_X, train_y, valid_y = train_test_split(X, y, test_size=10000)\n",
        "\n",
        "# XGB 모델(기본) 학습\n",
        "xgb_default = XGBClassifier(objective='binary:logistic', n_estimators=250, max_depth=6,\n",
        "                            reg_lambda=0, learning_rate=0.3, subsample=1,\n",
        "                            use_label_encoder=False, eval_metric='error')\n",
        "xgb_default.fit(train_X, train_y)\n",
        "\n",
        "# XGB 모델(페널티 부가) 학습\n",
        "xgb_penalty = XGBClassifier(objective='binary:logistic', n_estimators=250, max_depth=6,\n",
        "                            reg_lambda=1000, learning_rate=0.1, subsample=0.63,\n",
        "                            use_label_encoder=False, eval_metric='error')\n",
        "print(xgb_penalty.fit(train_X, train_y))"
      ],
      "metadata": {
        "colab": {
          "base_uri": "https://localhost:8080/"
        },
        "id": "uTLzHPkHwRe1",
        "outputId": "125c41c2-f636-498c-f094-f800a325a376"
      },
      "execution_count": 9,
      "outputs": [
        {
          "output_type": "stream",
          "name": "stdout",
          "text": [
            "XGBClassifier(eval_metric='error', max_depth=6, n_estimators=250,\n",
            "              reg_lambda=1000, subsample=0.63, use_label_encoder=False)\n"
          ]
        }
      ]
    },
    {
      "cell_type": "markdown",
      "source": [
        "- 전체 데이터 가운데 랜덤하게 테스트를 위한 10000개 데이터 선별 ➡ 나머지 데이터는 학습 데이터로 사용\n",
        "- subsample, learning_rate 사용하여 오버피팅 방지\n",
        "- reg_lambda 사용하여 L2-regrularization 적용"
      ],
      "metadata": {
        "id": "JV95p4dEyf0T"
      }
    },
    {
      "cell_type": "code",
      "source": [
        "# 결과 확인\n",
        "pred_default = xgb_default.predict_proba(train_X)[:, 1]\n",
        "error_default = abs(train_y - pred_default) > 0.5\n",
        "print('default (train): ', np.mean(error_default))\n",
        "\n",
        "pred_default = xgb_default.predict_proba(valid_X)[:, 1]\n",
        "error_default = abs(valid_y - pred_default) > 0.5\n",
        "print('default: ', np.mean(error_default))\n",
        "\n",
        "pred_penalty = xgb_penalty.predict_proba(valid_X)[:, 1]\n",
        "error_penalty = abs(valid_y - pred_penalty) > 0.5\n",
        "print('penalty: ', np.mean(error_penalty))"
      ],
      "metadata": {
        "colab": {
          "base_uri": "https://localhost:8080/"
        },
        "id": "0YNx_CABwYOZ",
        "outputId": "c9c78ccd-2aa9-4b9e-8c5d-d3ffccc7164a"
      },
      "execution_count": 10,
      "outputs": [
        {
          "output_type": "stream",
          "name": "stdout",
          "text": [
            "default (train):  0.11813140173165072\n",
            "default:  0.3608\n",
            "penalty:  0.3386\n"
          ]
        }
      ]
    },
    {
      "cell_type": "markdown",
      "source": [
        "- 학습 데이터에 대한 오차율 = 12.4%\n",
        "- 테스트 데이터에 대한 오차율 = 35.5%\n",
        "- **정규화 적용 모델의 오차율 = 32.9%**"
      ],
      "metadata": {
        "id": "95PL4YSozQu_"
      }
    },
    {
      "cell_type": "markdown",
      "source": [
        "![image.png](data:image/png;base64,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)"
      ],
      "metadata": {
        "id": "CzcBH8BB0738"
      }
    },
    {
      "cell_type": "markdown",
      "source": [
        "- 예측 확률 print"
      ],
      "metadata": {
        "id": "_dYidz1c09pm"
      }
    },
    {
      "cell_type": "markdown",
      "source": [
        "![image.png](data:image/png;base64,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)"
      ],
      "metadata": {
        "id": "iue9tcoC1QE_"
      }
    },
    {
      "cell_type": "markdown",
      "source": [
        "- 반복 횟수에 따른 오차율 그래프\n",
        "- 기본 모형은 정확도가 학습 데이터에 대해서는 꾸준히 좋아지지만 테스트 데이터에 대해서는 나빠진다. 벌점을 추가한 모형은 그렇지 않다!"
      ],
      "metadata": {
        "id": "J2ZX4tkV1TSv"
      }
    },
    {
      "cell_type": "markdown",
      "source": [
        "## **3. 하이퍼파라미터와 교차타당성검사**\n",
        "- 5개의 폴드를 이용해 각 폴드마다 각 모델에 대한 오차 계산\n",
        "- 가능한 모든 하이퍼파라미터 조합을 만들고, 각 조합으로 모델을 피팅 후 평가"
      ],
      "metadata": {
        "id": "bBfTFo24CEIR"
      }
    },
    {
      "cell_type": "code",
      "source": [
        "idx = np.random.choice(range(5), size=len(X), replace=True)\n",
        "error = []\n",
        "for eta, max_depth in product([0.1, 0.5, 0.9], [3, 6, 9]):\n",
        "    xgb = XGBClassifier(objective='binary:logistic', n_estimators=250, \n",
        "                        max_depth=max_depth, learning_rate=eta,\n",
        "                        use_label_encoder=False, eval_metric='error')\n",
        "    cv_error = []\n",
        "    for k in range(5):\n",
        "        fold_idx = idx == k\n",
        "        train_X = X.loc[~fold_idx]; train_y = y[~fold_idx]\n",
        "        valid_X = X.loc[fold_idx]; valid_y = y[fold_idx]\n",
        "\n",
        "        xgb.fit(train_X, train_y)\n",
        "        pred = xgb.predict_proba(valid_X)[:, 1]\n",
        "        cv_error.append(np.mean(abs(valid_y - pred) > 0.5))\n",
        "    error.append({\n",
        "        'eta': eta,\n",
        "        'max_depth': max_depth,\n",
        "        'avg_error': np.mean(cv_error)\n",
        "    })\n",
        "    print(error[-1])\n",
        "errors = pd.DataFrame(error)\n",
        "print(errors)"
      ],
      "metadata": {
        "id": "SY9gvLKb1QvP",
        "colab": {
          "base_uri": "https://localhost:8080/"
        },
        "outputId": "4d8de309-c134-40d1-b082-72385c68114c"
      },
      "execution_count": 11,
      "outputs": [
        {
          "output_type": "stream",
          "name": "stdout",
          "text": [
            "{'eta': 0.1, 'max_depth': 3, 'avg_error': 0.3289217778298635}\n",
            "{'eta': 0.1, 'max_depth': 6, 'avg_error': 0.3355475576821358}\n",
            "{'eta': 0.1, 'max_depth': 9, 'avg_error': 0.34200507359012133}\n",
            "{'eta': 0.5, 'max_depth': 3, 'avg_error': 0.3384277362600506}\n",
            "{'eta': 0.5, 'max_depth': 6, 'avg_error': 0.36803152147481005}\n",
            "{'eta': 0.5, 'max_depth': 9, 'avg_error': 0.3704037756213792}\n",
            "{'eta': 0.9, 'max_depth': 3, 'avg_error': 0.3535393098115921}\n",
            "{'eta': 0.9, 'max_depth': 6, 'avg_error': 0.3895588357210377}\n",
            "{'eta': 0.9, 'max_depth': 9, 'avg_error': 0.38266842312670113}\n",
            "   eta  max_depth  avg_error\n",
            "0  0.1          3   0.328922\n",
            "1  0.1          6   0.335548\n",
            "2  0.1          9   0.342005\n",
            "3  0.5          3   0.338428\n",
            "4  0.5          6   0.368032\n",
            "5  0.5          9   0.370404\n",
            "6  0.9          3   0.353539\n",
            "7  0.9          6   0.389559\n",
            "8  0.9          9   0.382668\n"
          ]
        }
      ]
    },
    {
      "cell_type": "code",
      "source": [
        "print(errors.pivot_table(index='eta', columns='max_depth', values='avg_error') * 100)"
      ],
      "metadata": {
        "id": "_dLH_BBaGD-9",
        "outputId": "3e923733-82e3-44dc-c173-f3895dfb1ac5",
        "colab": {
          "base_uri": "https://localhost:8080/"
        }
      },
      "execution_count": 12,
      "outputs": [
        {
          "output_type": "stream",
          "name": "stdout",
          "text": [
            "max_depth          3          6          9\n",
            "eta                                       \n",
            "0.1        32.892178  33.554756  34.200507\n",
            "0.5        33.842774  36.803152  37.040378\n",
            "0.9        35.353931  38.955884  38.266842\n"
          ]
        }
      ]
    },
    {
      "cell_type": "markdown",
      "source": [
        "- 다른 파라미터 조합 간의 오차율 비교\n",
        "- 교차타당성 검사를 통해 **learning_rate 값이 작으면서** **깊이가 얕은 트리**를 사용하는 것이 더 정확한 성능을 보인다는 사실을 알게 되었다.\n"
      ],
      "metadata": {
        "id": "PHb0-C9hGpCO"
      }
    }
  ]
}